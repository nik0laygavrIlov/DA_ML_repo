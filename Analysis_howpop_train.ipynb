{
  "nbformat": 4,
  "nbformat_minor": 0,
  "metadata": {
    "colab": {
      "provenance": [],
      "gpuType": "V28",
      "authorship_tag": "ABX9TyOPCAnxDMnrCdGDaDShbvqq",
      "include_colab_link": true
    },
    "kernelspec": {
      "name": "python3",
      "display_name": "Python 3"
    },
    "language_info": {
      "name": "python"
    },
    "accelerator": "TPU"
  },
  "cells": [
    {
      "cell_type": "markdown",
      "metadata": {
        "id": "view-in-github",
        "colab_type": "text"
      },
      "source": [
        "<a href=\"https://colab.research.google.com/github/nik0laygavrIlov/DA_ML_repo/blob/main/Analysis_howpop_train.ipynb\" target=\"_parent\"><img src=\"https://colab.research.google.com/assets/colab-badge.svg\" alt=\"Open In Colab\"/></a>"
      ]
    },
    {
      "cell_type": "markdown",
      "source": [
        "# Анализ датасета howpop_train"
      ],
      "metadata": {
        "id": "WNhIAZc7UbLd"
      }
    },
    {
      "cell_type": "markdown",
      "source": [
        "## Первичный анализ данных"
      ],
      "metadata": {
        "id": "bftUcmTKUld-"
      }
    },
    {
      "cell_type": "markdown",
      "source": [
        "Загрузим датасет howpop_train"
      ],
      "metadata": {
        "id": "V_awzZs8Whz-"
      }
    },
    {
      "cell_type": "code",
      "execution_count": null,
      "metadata": {
        "id": "MVNCbJM4TEue"
      },
      "outputs": [],
      "source": [
        "import pandas as pd\n",
        "import numpy as np\n",
        "import scipy as sp\n",
        "import os\n",
        "import matplotlib.pyplot as plt\n",
        "import seaborn as sns\n",
        "from sklearn import preprocessing\n",
        "\n",
        "url = 'https://drive.google.com/file/d/10NEWAf3gsZNYr9s6kmsUtpLeLcuKV1h9/view'\n",
        "file_id = url.split('/')[-2]\n",
        "dwn_url = 'https://drive.google.com/uc?id=' + file_id\n",
        "howpop_train = pd.read_csv(dwn_url,\n",
        "                           parse_dates=['published'],\n",
        "                           )"
      ]
    },
    {
      "cell_type": "markdown",
      "source": [
        "Выведем первые 10 строк датасета"
      ],
      "metadata": {
        "id": "e-gyxwfCWwC-"
      }
    },
    {
      "cell_type": "code",
      "source": [
        "howpop_train.head(10)"
      ],
      "metadata": {
        "colab": {
          "base_uri": "https://localhost:8080/",
          "height": 799
        },
        "id": "d9BlNNeRWXTX",
        "outputId": "4a0d856f-025f-4dbc-a82b-0df9142b6b51"
      },
      "execution_count": null,
      "outputs": [
        {
          "output_type": "execute_result",
          "data": {
            "text/plain": [
              "                                url        domain  post_id  \\\n",
              "0  https://habrahabr.ru/post/18284/  habrahabr.ru    18284   \n",
              "1  https://habrahabr.ru/post/18285/  habrahabr.ru    18285   \n",
              "2  https://habrahabr.ru/post/18286/  habrahabr.ru    18286   \n",
              "3  https://habrahabr.ru/post/18291/  habrahabr.ru    18291   \n",
              "4  https://geektimes.ru/post/18294/  geektimes.ru    18294   \n",
              "5  https://habrahabr.ru/post/18295/  habrahabr.ru    18295   \n",
              "6  https://geektimes.ru/post/18306/  geektimes.ru    18306   \n",
              "7  https://habrahabr.ru/post/18311/  habrahabr.ru    18311   \n",
              "8  https://habrahabr.ru/post/31352/  habrahabr.ru    31352   \n",
              "9  https://habrahabr.ru/post/18314/  habrahabr.ru    18314   \n",
              "\n",
              "            published      author     flow  polling  content_len  \\\n",
              "0 2008-01-01 18:19:00      @Tapac  develop    False         4305   \n",
              "1 2008-01-01 18:30:00  @DezmASter   design    False         7344   \n",
              "2 2008-01-01 18:34:00  @DezmASter   design    False         8431   \n",
              "3 2008-01-02 01:32:00    @Taoorus   design    False         5662   \n",
              "4 2008-01-02 14:34:00    @dennydo      NaN    False         3706   \n",
              "5 2008-01-02 16:14:00       @lvea  develop    False         3171   \n",
              "6 2008-01-03 12:55:00    @abbasov      NaN    False          435   \n",
              "7 2008-01-03 17:20:00     @Andrey     misc    False         3291   \n",
              "8 2008-01-03 22:54:00  @kvladimir  develop    False         1953   \n",
              "9 2008-01-03 23:56:00       @lvea  develop    False         3712   \n",
              "\n",
              "                                               title  comments  favs  views  \\\n",
              "0     Новогодний подарок блоггерам — WordPress 2.3.2         0     0    236   \n",
              "1  Сумасшедшие яйца, или сервис для отслеживания ...         1     1    353   \n",
              "2  Сумасшедшие яйца, или сервис для отслеживания ...        47    72   1200   \n",
              "3     Сглаживание шрифтов, и субпиксельная отрисовка       102    36   5700   \n",
              "4                      Почему мне не нравится iPhone       230     6   1400   \n",
              "5                     Mobile2.0 Всеобщая доступность        22     1    192   \n",
              "6                                 Modbook в действии        10     0    301   \n",
              "7                     В чем суть проекта Vladelia.ru        64     1    141   \n",
              "8  Подтверждено: Wikia Search запускается в понед...        23     2    208   \n",
              "9   Mobile 2.0 Выбор предпочтительного способа связи         6     1    401   \n",
              "\n",
              "   votes_plus  votes_minus  views_lognorm  favs_lognorm  comments_lognorm  \n",
              "0         0.0          0.0      -0.792687     -1.344075         -2.436871  \n",
              "1         1.0          0.0      -0.485214     -0.831946         -1.873193  \n",
              "2        45.0          5.0       0.446090      1.794023          0.574656  \n",
              "3        72.0          3.0       1.627469      1.300050          1.167375  \n",
              "4        73.0         15.0       1.362397      0.961094          2.020356  \n",
              "5         9.0          2.0      -0.950075     -0.825149          0.016555  \n",
              "6         5.0          1.0      -0.402140     -1.278643         -0.355525  \n",
              "7        17.0         20.0      -1.168569     -0.822414          0.801626  \n",
              "8        21.0          3.0      -0.878984     -0.525245          0.041000  \n",
              "9         2.0          0.0      -0.389766     -0.817507         -0.896510  "
            ],
            "text/html": [
              "\n",
              "  <div id=\"df-778b3572-3aef-4369-9570-1638a756fdaf\" class=\"colab-df-container\">\n",
              "    <div>\n",
              "<style scoped>\n",
              "    .dataframe tbody tr th:only-of-type {\n",
              "        vertical-align: middle;\n",
              "    }\n",
              "\n",
              "    .dataframe tbody tr th {\n",
              "        vertical-align: top;\n",
              "    }\n",
              "\n",
              "    .dataframe thead th {\n",
              "        text-align: right;\n",
              "    }\n",
              "</style>\n",
              "<table border=\"1\" class=\"dataframe\">\n",
              "  <thead>\n",
              "    <tr style=\"text-align: right;\">\n",
              "      <th></th>\n",
              "      <th>url</th>\n",
              "      <th>domain</th>\n",
              "      <th>post_id</th>\n",
              "      <th>published</th>\n",
              "      <th>author</th>\n",
              "      <th>flow</th>\n",
              "      <th>polling</th>\n",
              "      <th>content_len</th>\n",
              "      <th>title</th>\n",
              "      <th>comments</th>\n",
              "      <th>favs</th>\n",
              "      <th>views</th>\n",
              "      <th>votes_plus</th>\n",
              "      <th>votes_minus</th>\n",
              "      <th>views_lognorm</th>\n",
              "      <th>favs_lognorm</th>\n",
              "      <th>comments_lognorm</th>\n",
              "    </tr>\n",
              "  </thead>\n",
              "  <tbody>\n",
              "    <tr>\n",
              "      <th>0</th>\n",
              "      <td>https://habrahabr.ru/post/18284/</td>\n",
              "      <td>habrahabr.ru</td>\n",
              "      <td>18284</td>\n",
              "      <td>2008-01-01 18:19:00</td>\n",
              "      <td>@Tapac</td>\n",
              "      <td>develop</td>\n",
              "      <td>False</td>\n",
              "      <td>4305</td>\n",
              "      <td>Новогодний подарок блоггерам — WordPress 2.3.2</td>\n",
              "      <td>0</td>\n",
              "      <td>0</td>\n",
              "      <td>236</td>\n",
              "      <td>0.0</td>\n",
              "      <td>0.0</td>\n",
              "      <td>-0.792687</td>\n",
              "      <td>-1.344075</td>\n",
              "      <td>-2.436871</td>\n",
              "    </tr>\n",
              "    <tr>\n",
              "      <th>1</th>\n",
              "      <td>https://habrahabr.ru/post/18285/</td>\n",
              "      <td>habrahabr.ru</td>\n",
              "      <td>18285</td>\n",
              "      <td>2008-01-01 18:30:00</td>\n",
              "      <td>@DezmASter</td>\n",
              "      <td>design</td>\n",
              "      <td>False</td>\n",
              "      <td>7344</td>\n",
              "      <td>Сумасшедшие яйца, или сервис для отслеживания ...</td>\n",
              "      <td>1</td>\n",
              "      <td>1</td>\n",
              "      <td>353</td>\n",
              "      <td>1.0</td>\n",
              "      <td>0.0</td>\n",
              "      <td>-0.485214</td>\n",
              "      <td>-0.831946</td>\n",
              "      <td>-1.873193</td>\n",
              "    </tr>\n",
              "    <tr>\n",
              "      <th>2</th>\n",
              "      <td>https://habrahabr.ru/post/18286/</td>\n",
              "      <td>habrahabr.ru</td>\n",
              "      <td>18286</td>\n",
              "      <td>2008-01-01 18:34:00</td>\n",
              "      <td>@DezmASter</td>\n",
              "      <td>design</td>\n",
              "      <td>False</td>\n",
              "      <td>8431</td>\n",
              "      <td>Сумасшедшие яйца, или сервис для отслеживания ...</td>\n",
              "      <td>47</td>\n",
              "      <td>72</td>\n",
              "      <td>1200</td>\n",
              "      <td>45.0</td>\n",
              "      <td>5.0</td>\n",
              "      <td>0.446090</td>\n",
              "      <td>1.794023</td>\n",
              "      <td>0.574656</td>\n",
              "    </tr>\n",
              "    <tr>\n",
              "      <th>3</th>\n",
              "      <td>https://habrahabr.ru/post/18291/</td>\n",
              "      <td>habrahabr.ru</td>\n",
              "      <td>18291</td>\n",
              "      <td>2008-01-02 01:32:00</td>\n",
              "      <td>@Taoorus</td>\n",
              "      <td>design</td>\n",
              "      <td>False</td>\n",
              "      <td>5662</td>\n",
              "      <td>Сглаживание шрифтов, и субпиксельная отрисовка</td>\n",
              "      <td>102</td>\n",
              "      <td>36</td>\n",
              "      <td>5700</td>\n",
              "      <td>72.0</td>\n",
              "      <td>3.0</td>\n",
              "      <td>1.627469</td>\n",
              "      <td>1.300050</td>\n",
              "      <td>1.167375</td>\n",
              "    </tr>\n",
              "    <tr>\n",
              "      <th>4</th>\n",
              "      <td>https://geektimes.ru/post/18294/</td>\n",
              "      <td>geektimes.ru</td>\n",
              "      <td>18294</td>\n",
              "      <td>2008-01-02 14:34:00</td>\n",
              "      <td>@dennydo</td>\n",
              "      <td>NaN</td>\n",
              "      <td>False</td>\n",
              "      <td>3706</td>\n",
              "      <td>Почему мне не нравится iPhone</td>\n",
              "      <td>230</td>\n",
              "      <td>6</td>\n",
              "      <td>1400</td>\n",
              "      <td>73.0</td>\n",
              "      <td>15.0</td>\n",
              "      <td>1.362397</td>\n",
              "      <td>0.961094</td>\n",
              "      <td>2.020356</td>\n",
              "    </tr>\n",
              "    <tr>\n",
              "      <th>5</th>\n",
              "      <td>https://habrahabr.ru/post/18295/</td>\n",
              "      <td>habrahabr.ru</td>\n",
              "      <td>18295</td>\n",
              "      <td>2008-01-02 16:14:00</td>\n",
              "      <td>@lvea</td>\n",
              "      <td>develop</td>\n",
              "      <td>False</td>\n",
              "      <td>3171</td>\n",
              "      <td>Mobile2.0 Всеобщая доступность</td>\n",
              "      <td>22</td>\n",
              "      <td>1</td>\n",
              "      <td>192</td>\n",
              "      <td>9.0</td>\n",
              "      <td>2.0</td>\n",
              "      <td>-0.950075</td>\n",
              "      <td>-0.825149</td>\n",
              "      <td>0.016555</td>\n",
              "    </tr>\n",
              "    <tr>\n",
              "      <th>6</th>\n",
              "      <td>https://geektimes.ru/post/18306/</td>\n",
              "      <td>geektimes.ru</td>\n",
              "      <td>18306</td>\n",
              "      <td>2008-01-03 12:55:00</td>\n",
              "      <td>@abbasov</td>\n",
              "      <td>NaN</td>\n",
              "      <td>False</td>\n",
              "      <td>435</td>\n",
              "      <td>Modbook в действии</td>\n",
              "      <td>10</td>\n",
              "      <td>0</td>\n",
              "      <td>301</td>\n",
              "      <td>5.0</td>\n",
              "      <td>1.0</td>\n",
              "      <td>-0.402140</td>\n",
              "      <td>-1.278643</td>\n",
              "      <td>-0.355525</td>\n",
              "    </tr>\n",
              "    <tr>\n",
              "      <th>7</th>\n",
              "      <td>https://habrahabr.ru/post/18311/</td>\n",
              "      <td>habrahabr.ru</td>\n",
              "      <td>18311</td>\n",
              "      <td>2008-01-03 17:20:00</td>\n",
              "      <td>@Andrey</td>\n",
              "      <td>misc</td>\n",
              "      <td>False</td>\n",
              "      <td>3291</td>\n",
              "      <td>В чем суть проекта Vladelia.ru</td>\n",
              "      <td>64</td>\n",
              "      <td>1</td>\n",
              "      <td>141</td>\n",
              "      <td>17.0</td>\n",
              "      <td>20.0</td>\n",
              "      <td>-1.168569</td>\n",
              "      <td>-0.822414</td>\n",
              "      <td>0.801626</td>\n",
              "    </tr>\n",
              "    <tr>\n",
              "      <th>8</th>\n",
              "      <td>https://habrahabr.ru/post/31352/</td>\n",
              "      <td>habrahabr.ru</td>\n",
              "      <td>31352</td>\n",
              "      <td>2008-01-03 22:54:00</td>\n",
              "      <td>@kvladimir</td>\n",
              "      <td>develop</td>\n",
              "      <td>False</td>\n",
              "      <td>1953</td>\n",
              "      <td>Подтверждено: Wikia Search запускается в понед...</td>\n",
              "      <td>23</td>\n",
              "      <td>2</td>\n",
              "      <td>208</td>\n",
              "      <td>21.0</td>\n",
              "      <td>3.0</td>\n",
              "      <td>-0.878984</td>\n",
              "      <td>-0.525245</td>\n",
              "      <td>0.041000</td>\n",
              "    </tr>\n",
              "    <tr>\n",
              "      <th>9</th>\n",
              "      <td>https://habrahabr.ru/post/18314/</td>\n",
              "      <td>habrahabr.ru</td>\n",
              "      <td>18314</td>\n",
              "      <td>2008-01-03 23:56:00</td>\n",
              "      <td>@lvea</td>\n",
              "      <td>develop</td>\n",
              "      <td>False</td>\n",
              "      <td>3712</td>\n",
              "      <td>Mobile 2.0 Выбор предпочтительного способа связи</td>\n",
              "      <td>6</td>\n",
              "      <td>1</td>\n",
              "      <td>401</td>\n",
              "      <td>2.0</td>\n",
              "      <td>0.0</td>\n",
              "      <td>-0.389766</td>\n",
              "      <td>-0.817507</td>\n",
              "      <td>-0.896510</td>\n",
              "    </tr>\n",
              "  </tbody>\n",
              "</table>\n",
              "</div>\n",
              "    <div class=\"colab-df-buttons\">\n",
              "\n",
              "  <div class=\"colab-df-container\">\n",
              "    <button class=\"colab-df-convert\" onclick=\"convertToInteractive('df-778b3572-3aef-4369-9570-1638a756fdaf')\"\n",
              "            title=\"Convert this dataframe to an interactive table.\"\n",
              "            style=\"display:none;\">\n",
              "\n",
              "  <svg xmlns=\"http://www.w3.org/2000/svg\" height=\"24px\" viewBox=\"0 -960 960 960\">\n",
              "    <path d=\"M120-120v-720h720v720H120Zm60-500h600v-160H180v160Zm220 220h160v-160H400v160Zm0 220h160v-160H400v160ZM180-400h160v-160H180v160Zm440 0h160v-160H620v160ZM180-180h160v-160H180v160Zm440 0h160v-160H620v160Z\"/>\n",
              "  </svg>\n",
              "    </button>\n",
              "\n",
              "  <style>\n",
              "    .colab-df-container {\n",
              "      display:flex;\n",
              "      gap: 12px;\n",
              "    }\n",
              "\n",
              "    .colab-df-convert {\n",
              "      background-color: #E8F0FE;\n",
              "      border: none;\n",
              "      border-radius: 50%;\n",
              "      cursor: pointer;\n",
              "      display: none;\n",
              "      fill: #1967D2;\n",
              "      height: 32px;\n",
              "      padding: 0 0 0 0;\n",
              "      width: 32px;\n",
              "    }\n",
              "\n",
              "    .colab-df-convert:hover {\n",
              "      background-color: #E2EBFA;\n",
              "      box-shadow: 0px 1px 2px rgba(60, 64, 67, 0.3), 0px 1px 3px 1px rgba(60, 64, 67, 0.15);\n",
              "      fill: #174EA6;\n",
              "    }\n",
              "\n",
              "    .colab-df-buttons div {\n",
              "      margin-bottom: 4px;\n",
              "    }\n",
              "\n",
              "    [theme=dark] .colab-df-convert {\n",
              "      background-color: #3B4455;\n",
              "      fill: #D2E3FC;\n",
              "    }\n",
              "\n",
              "    [theme=dark] .colab-df-convert:hover {\n",
              "      background-color: #434B5C;\n",
              "      box-shadow: 0px 1px 3px 1px rgba(0, 0, 0, 0.15);\n",
              "      filter: drop-shadow(0px 1px 2px rgba(0, 0, 0, 0.3));\n",
              "      fill: #FFFFFF;\n",
              "    }\n",
              "  </style>\n",
              "\n",
              "    <script>\n",
              "      const buttonEl =\n",
              "        document.querySelector('#df-778b3572-3aef-4369-9570-1638a756fdaf button.colab-df-convert');\n",
              "      buttonEl.style.display =\n",
              "        google.colab.kernel.accessAllowed ? 'block' : 'none';\n",
              "\n",
              "      async function convertToInteractive(key) {\n",
              "        const element = document.querySelector('#df-778b3572-3aef-4369-9570-1638a756fdaf');\n",
              "        const dataTable =\n",
              "          await google.colab.kernel.invokeFunction('convertToInteractive',\n",
              "                                                    [key], {});\n",
              "        if (!dataTable) return;\n",
              "\n",
              "        const docLinkHtml = 'Like what you see? Visit the ' +\n",
              "          '<a target=\"_blank\" href=https://colab.research.google.com/notebooks/data_table.ipynb>data table notebook</a>'\n",
              "          + ' to learn more about interactive tables.';\n",
              "        element.innerHTML = '';\n",
              "        dataTable['output_type'] = 'display_data';\n",
              "        await google.colab.output.renderOutput(dataTable, element);\n",
              "        const docLink = document.createElement('div');\n",
              "        docLink.innerHTML = docLinkHtml;\n",
              "        element.appendChild(docLink);\n",
              "      }\n",
              "    </script>\n",
              "  </div>\n",
              "\n",
              "\n",
              "<div id=\"df-a616560c-4fc5-42e6-8b40-e6269568ff55\">\n",
              "  <button class=\"colab-df-quickchart\" onclick=\"quickchart('df-a616560c-4fc5-42e6-8b40-e6269568ff55')\"\n",
              "            title=\"Suggest charts\"\n",
              "            style=\"display:none;\">\n",
              "\n",
              "<svg xmlns=\"http://www.w3.org/2000/svg\" height=\"24px\"viewBox=\"0 0 24 24\"\n",
              "     width=\"24px\">\n",
              "    <g>\n",
              "        <path d=\"M19 3H5c-1.1 0-2 .9-2 2v14c0 1.1.9 2 2 2h14c1.1 0 2-.9 2-2V5c0-1.1-.9-2-2-2zM9 17H7v-7h2v7zm4 0h-2V7h2v10zm4 0h-2v-4h2v4z\"/>\n",
              "    </g>\n",
              "</svg>\n",
              "  </button>\n",
              "\n",
              "<style>\n",
              "  .colab-df-quickchart {\n",
              "      --bg-color: #E8F0FE;\n",
              "      --fill-color: #1967D2;\n",
              "      --hover-bg-color: #E2EBFA;\n",
              "      --hover-fill-color: #174EA6;\n",
              "      --disabled-fill-color: #AAA;\n",
              "      --disabled-bg-color: #DDD;\n",
              "  }\n",
              "\n",
              "  [theme=dark] .colab-df-quickchart {\n",
              "      --bg-color: #3B4455;\n",
              "      --fill-color: #D2E3FC;\n",
              "      --hover-bg-color: #434B5C;\n",
              "      --hover-fill-color: #FFFFFF;\n",
              "      --disabled-bg-color: #3B4455;\n",
              "      --disabled-fill-color: #666;\n",
              "  }\n",
              "\n",
              "  .colab-df-quickchart {\n",
              "    background-color: var(--bg-color);\n",
              "    border: none;\n",
              "    border-radius: 50%;\n",
              "    cursor: pointer;\n",
              "    display: none;\n",
              "    fill: var(--fill-color);\n",
              "    height: 32px;\n",
              "    padding: 0;\n",
              "    width: 32px;\n",
              "  }\n",
              "\n",
              "  .colab-df-quickchart:hover {\n",
              "    background-color: var(--hover-bg-color);\n",
              "    box-shadow: 0 1px 2px rgba(60, 64, 67, 0.3), 0 1px 3px 1px rgba(60, 64, 67, 0.15);\n",
              "    fill: var(--button-hover-fill-color);\n",
              "  }\n",
              "\n",
              "  .colab-df-quickchart-complete:disabled,\n",
              "  .colab-df-quickchart-complete:disabled:hover {\n",
              "    background-color: var(--disabled-bg-color);\n",
              "    fill: var(--disabled-fill-color);\n",
              "    box-shadow: none;\n",
              "  }\n",
              "\n",
              "  .colab-df-spinner {\n",
              "    border: 2px solid var(--fill-color);\n",
              "    border-color: transparent;\n",
              "    border-bottom-color: var(--fill-color);\n",
              "    animation:\n",
              "      spin 1s steps(1) infinite;\n",
              "  }\n",
              "\n",
              "  @keyframes spin {\n",
              "    0% {\n",
              "      border-color: transparent;\n",
              "      border-bottom-color: var(--fill-color);\n",
              "      border-left-color: var(--fill-color);\n",
              "    }\n",
              "    20% {\n",
              "      border-color: transparent;\n",
              "      border-left-color: var(--fill-color);\n",
              "      border-top-color: var(--fill-color);\n",
              "    }\n",
              "    30% {\n",
              "      border-color: transparent;\n",
              "      border-left-color: var(--fill-color);\n",
              "      border-top-color: var(--fill-color);\n",
              "      border-right-color: var(--fill-color);\n",
              "    }\n",
              "    40% {\n",
              "      border-color: transparent;\n",
              "      border-right-color: var(--fill-color);\n",
              "      border-top-color: var(--fill-color);\n",
              "    }\n",
              "    60% {\n",
              "      border-color: transparent;\n",
              "      border-right-color: var(--fill-color);\n",
              "    }\n",
              "    80% {\n",
              "      border-color: transparent;\n",
              "      border-right-color: var(--fill-color);\n",
              "      border-bottom-color: var(--fill-color);\n",
              "    }\n",
              "    90% {\n",
              "      border-color: transparent;\n",
              "      border-bottom-color: var(--fill-color);\n",
              "    }\n",
              "  }\n",
              "</style>\n",
              "\n",
              "  <script>\n",
              "    async function quickchart(key) {\n",
              "      const quickchartButtonEl =\n",
              "        document.querySelector('#' + key + ' button');\n",
              "      quickchartButtonEl.disabled = true;  // To prevent multiple clicks.\n",
              "      quickchartButtonEl.classList.add('colab-df-spinner');\n",
              "      try {\n",
              "        const charts = await google.colab.kernel.invokeFunction(\n",
              "            'suggestCharts', [key], {});\n",
              "      } catch (error) {\n",
              "        console.error('Error during call to suggestCharts:', error);\n",
              "      }\n",
              "      quickchartButtonEl.classList.remove('colab-df-spinner');\n",
              "      quickchartButtonEl.classList.add('colab-df-quickchart-complete');\n",
              "    }\n",
              "    (() => {\n",
              "      let quickchartButtonEl =\n",
              "        document.querySelector('#df-a616560c-4fc5-42e6-8b40-e6269568ff55 button');\n",
              "      quickchartButtonEl.style.display =\n",
              "        google.colab.kernel.accessAllowed ? 'block' : 'none';\n",
              "    })();\n",
              "  </script>\n",
              "</div>\n",
              "    </div>\n",
              "  </div>\n"
            ],
            "application/vnd.google.colaboratory.intrinsic+json": {
              "type": "dataframe",
              "variable_name": "howpop_train"
            }
          },
          "metadata": {},
          "execution_count": 84
        }
      ]
    },
    {
      "cell_type": "markdown",
      "source": [
        "Посмотрим, в каких столбцах датасета есть пропуски, и сколько их, а также какие типы данных кождого столбца"
      ],
      "metadata": {
        "id": "r7jdaYdPXA0H"
      }
    },
    {
      "cell_type": "code",
      "source": [
        "howpop_train.isna().sum()"
      ],
      "metadata": {
        "colab": {
          "base_uri": "https://localhost:8080/",
          "height": 617
        },
        "id": "2bRjp64rjTyC",
        "outputId": "c3808665-cd0d-4aaf-8c27-c8e143a5cff5"
      },
      "execution_count": null,
      "outputs": [
        {
          "output_type": "execute_result",
          "data": {
            "text/plain": [
              "url                     0\n",
              "domain                  0\n",
              "post_id                 0\n",
              "published               0\n",
              "author              36480\n",
              "flow                37089\n",
              "polling                 0\n",
              "content_len             0\n",
              "title                   0\n",
              "comments                0\n",
              "favs                    0\n",
              "views                   0\n",
              "votes_plus            571\n",
              "votes_minus           571\n",
              "views_lognorm           0\n",
              "favs_lognorm            0\n",
              "comments_lognorm        0\n",
              "dtype: int64"
            ],
            "text/html": [
              "<table border=\"1\" class=\"dataframe\">\n",
              "  <thead>\n",
              "    <tr style=\"text-align: right;\">\n",
              "      <th></th>\n",
              "      <th>0</th>\n",
              "    </tr>\n",
              "  </thead>\n",
              "  <tbody>\n",
              "    <tr>\n",
              "      <th>url</th>\n",
              "      <td>0</td>\n",
              "    </tr>\n",
              "    <tr>\n",
              "      <th>domain</th>\n",
              "      <td>0</td>\n",
              "    </tr>\n",
              "    <tr>\n",
              "      <th>post_id</th>\n",
              "      <td>0</td>\n",
              "    </tr>\n",
              "    <tr>\n",
              "      <th>published</th>\n",
              "      <td>0</td>\n",
              "    </tr>\n",
              "    <tr>\n",
              "      <th>author</th>\n",
              "      <td>36480</td>\n",
              "    </tr>\n",
              "    <tr>\n",
              "      <th>flow</th>\n",
              "      <td>37089</td>\n",
              "    </tr>\n",
              "    <tr>\n",
              "      <th>polling</th>\n",
              "      <td>0</td>\n",
              "    </tr>\n",
              "    <tr>\n",
              "      <th>content_len</th>\n",
              "      <td>0</td>\n",
              "    </tr>\n",
              "    <tr>\n",
              "      <th>title</th>\n",
              "      <td>0</td>\n",
              "    </tr>\n",
              "    <tr>\n",
              "      <th>comments</th>\n",
              "      <td>0</td>\n",
              "    </tr>\n",
              "    <tr>\n",
              "      <th>favs</th>\n",
              "      <td>0</td>\n",
              "    </tr>\n",
              "    <tr>\n",
              "      <th>views</th>\n",
              "      <td>0</td>\n",
              "    </tr>\n",
              "    <tr>\n",
              "      <th>votes_plus</th>\n",
              "      <td>571</td>\n",
              "    </tr>\n",
              "    <tr>\n",
              "      <th>votes_minus</th>\n",
              "      <td>571</td>\n",
              "    </tr>\n",
              "    <tr>\n",
              "      <th>views_lognorm</th>\n",
              "      <td>0</td>\n",
              "    </tr>\n",
              "    <tr>\n",
              "      <th>favs_lognorm</th>\n",
              "      <td>0</td>\n",
              "    </tr>\n",
              "    <tr>\n",
              "      <th>comments_lognorm</th>\n",
              "      <td>0</td>\n",
              "    </tr>\n",
              "  </tbody>\n",
              "</table><br><label><b>dtype:</b> int64</label>"
            ]
          },
          "metadata": {},
          "execution_count": 85
        }
      ]
    },
    {
      "cell_type": "markdown",
      "source": [
        "Как видим, пропуски есть в столбцах author, flow, votes_plus и votes_minus.\n",
        "\n",
        "Вычислим отношение числа строк с пропусками к числу строк без пропусков"
      ],
      "metadata": {
        "id": "jGuzRSubVtmu"
      }
    },
    {
      "cell_type": "code",
      "source": [
        "howpop_train.isna().sum() / howpop_train.notna().sum()"
      ],
      "metadata": {
        "colab": {
          "base_uri": "https://localhost:8080/",
          "height": 617
        },
        "id": "wITvxTP3X--i",
        "outputId": "9bb089ab-6adc-4584-f7a1-aaef7bfe70e2"
      },
      "execution_count": null,
      "outputs": [
        {
          "output_type": "execute_result",
          "data": {
            "text/plain": [
              "url                 0.000000\n",
              "domain              0.000000\n",
              "post_id             0.000000\n",
              "published           0.000000\n",
              "author              0.373552\n",
              "flow                0.382172\n",
              "polling             0.000000\n",
              "content_len         0.000000\n",
              "title               0.000000\n",
              "comments            0.000000\n",
              "favs                0.000000\n",
              "views               0.000000\n",
              "votes_plus          0.004275\n",
              "votes_minus         0.004275\n",
              "views_lognorm       0.000000\n",
              "favs_lognorm        0.000000\n",
              "comments_lognorm    0.000000\n",
              "dtype: float64"
            ],
            "text/html": [
              "<table border=\"1\" class=\"dataframe\">\n",
              "  <thead>\n",
              "    <tr style=\"text-align: right;\">\n",
              "      <th></th>\n",
              "      <th>0</th>\n",
              "    </tr>\n",
              "  </thead>\n",
              "  <tbody>\n",
              "    <tr>\n",
              "      <th>url</th>\n",
              "      <td>0.000000</td>\n",
              "    </tr>\n",
              "    <tr>\n",
              "      <th>domain</th>\n",
              "      <td>0.000000</td>\n",
              "    </tr>\n",
              "    <tr>\n",
              "      <th>post_id</th>\n",
              "      <td>0.000000</td>\n",
              "    </tr>\n",
              "    <tr>\n",
              "      <th>published</th>\n",
              "      <td>0.000000</td>\n",
              "    </tr>\n",
              "    <tr>\n",
              "      <th>author</th>\n",
              "      <td>0.373552</td>\n",
              "    </tr>\n",
              "    <tr>\n",
              "      <th>flow</th>\n",
              "      <td>0.382172</td>\n",
              "    </tr>\n",
              "    <tr>\n",
              "      <th>polling</th>\n",
              "      <td>0.000000</td>\n",
              "    </tr>\n",
              "    <tr>\n",
              "      <th>content_len</th>\n",
              "      <td>0.000000</td>\n",
              "    </tr>\n",
              "    <tr>\n",
              "      <th>title</th>\n",
              "      <td>0.000000</td>\n",
              "    </tr>\n",
              "    <tr>\n",
              "      <th>comments</th>\n",
              "      <td>0.000000</td>\n",
              "    </tr>\n",
              "    <tr>\n",
              "      <th>favs</th>\n",
              "      <td>0.000000</td>\n",
              "    </tr>\n",
              "    <tr>\n",
              "      <th>views</th>\n",
              "      <td>0.000000</td>\n",
              "    </tr>\n",
              "    <tr>\n",
              "      <th>votes_plus</th>\n",
              "      <td>0.004275</td>\n",
              "    </tr>\n",
              "    <tr>\n",
              "      <th>votes_minus</th>\n",
              "      <td>0.004275</td>\n",
              "    </tr>\n",
              "    <tr>\n",
              "      <th>views_lognorm</th>\n",
              "      <td>0.000000</td>\n",
              "    </tr>\n",
              "    <tr>\n",
              "      <th>favs_lognorm</th>\n",
              "      <td>0.000000</td>\n",
              "    </tr>\n",
              "    <tr>\n",
              "      <th>comments_lognorm</th>\n",
              "      <td>0.000000</td>\n",
              "    </tr>\n",
              "  </tbody>\n",
              "</table><br><label><b>dtype:</b> float64</label>"
            ]
          },
          "metadata": {},
          "execution_count": 86
        }
      ]
    },
    {
      "cell_type": "markdown",
      "source": [
        "Столбцы domain, post_id, author, title не вносят никакой информации для анализа. Удалим их.\n",
        "Пропуски в столбце flow заменим на not_defined."
      ],
      "metadata": {
        "id": "115OvBgNYtKo"
      }
    },
    {
      "cell_type": "code",
      "source": [
        "(howpop_train['votes_plus'].isna() & howpop_train['votes_minus'].isna()).sum()"
      ],
      "metadata": {
        "colab": {
          "base_uri": "https://localhost:8080/"
        },
        "id": "wz4vPfkMXuDB",
        "outputId": "4c9ad949-4835-4686-b446-5e5184a1b8c1"
      },
      "execution_count": null,
      "outputs": [
        {
          "output_type": "execute_result",
          "data": {
            "text/plain": [
              "571"
            ]
          },
          "metadata": {},
          "execution_count": 87
        }
      ]
    },
    {
      "cell_type": "markdown",
      "source": [
        "Как видим, число пропусков в столбцах votes_minus и votes_plus совпадает с числом пропусков в каждом из столбцов. Поскольку доля таких строк составляет около 0,4 %, их удаление не окажет влияния на нашу выборку. Сделаем это"
      ],
      "metadata": {
        "id": "r_cL-rX-Wr5t"
      }
    },
    {
      "cell_type": "code",
      "source": [
        "howpop_train = howpop_train.drop(columns=['domain', 'post_id', 'author', 'title'])\n",
        "howpop_train = howpop_train[howpop_train['votes_minus'].notna()]\n",
        "howpop_train['flow'] = howpop_train['flow'].fillna('not_defined')"
      ],
      "metadata": {
        "id": "evYjW8VdXYkF"
      },
      "execution_count": null,
      "outputs": []
    },
    {
      "cell_type": "markdown",
      "source": [
        "Проверим, что пропуски удалились"
      ],
      "metadata": {
        "id": "Wft2QEUDa3ef"
      }
    },
    {
      "cell_type": "code",
      "source": [
        "howpop_train.isna().sum()"
      ],
      "metadata": {
        "colab": {
          "base_uri": "https://localhost:8080/",
          "height": 491
        },
        "id": "XT70h47Va0Ms",
        "outputId": "c4e31122-5ba2-429c-c4c7-1553ee675ec4"
      },
      "execution_count": null,
      "outputs": [
        {
          "output_type": "execute_result",
          "data": {
            "text/plain": [
              "url                 0\n",
              "published           0\n",
              "flow                0\n",
              "polling             0\n",
              "content_len         0\n",
              "comments            0\n",
              "favs                0\n",
              "views               0\n",
              "votes_plus          0\n",
              "votes_minus         0\n",
              "views_lognorm       0\n",
              "favs_lognorm        0\n",
              "comments_lognorm    0\n",
              "dtype: int64"
            ],
            "text/html": [
              "<table border=\"1\" class=\"dataframe\">\n",
              "  <thead>\n",
              "    <tr style=\"text-align: right;\">\n",
              "      <th></th>\n",
              "      <th>0</th>\n",
              "    </tr>\n",
              "  </thead>\n",
              "  <tbody>\n",
              "    <tr>\n",
              "      <th>url</th>\n",
              "      <td>0</td>\n",
              "    </tr>\n",
              "    <tr>\n",
              "      <th>published</th>\n",
              "      <td>0</td>\n",
              "    </tr>\n",
              "    <tr>\n",
              "      <th>flow</th>\n",
              "      <td>0</td>\n",
              "    </tr>\n",
              "    <tr>\n",
              "      <th>polling</th>\n",
              "      <td>0</td>\n",
              "    </tr>\n",
              "    <tr>\n",
              "      <th>content_len</th>\n",
              "      <td>0</td>\n",
              "    </tr>\n",
              "    <tr>\n",
              "      <th>comments</th>\n",
              "      <td>0</td>\n",
              "    </tr>\n",
              "    <tr>\n",
              "      <th>favs</th>\n",
              "      <td>0</td>\n",
              "    </tr>\n",
              "    <tr>\n",
              "      <th>views</th>\n",
              "      <td>0</td>\n",
              "    </tr>\n",
              "    <tr>\n",
              "      <th>votes_plus</th>\n",
              "      <td>0</td>\n",
              "    </tr>\n",
              "    <tr>\n",
              "      <th>votes_minus</th>\n",
              "      <td>0</td>\n",
              "    </tr>\n",
              "    <tr>\n",
              "      <th>views_lognorm</th>\n",
              "      <td>0</td>\n",
              "    </tr>\n",
              "    <tr>\n",
              "      <th>favs_lognorm</th>\n",
              "      <td>0</td>\n",
              "    </tr>\n",
              "    <tr>\n",
              "      <th>comments_lognorm</th>\n",
              "      <td>0</td>\n",
              "    </tr>\n",
              "  </tbody>\n",
              "</table><br><label><b>dtype:</b> int64</label>"
            ]
          },
          "metadata": {},
          "execution_count": 89
        }
      ]
    },
    {
      "cell_type": "markdown",
      "source": [
        "Проверим даты в столбце published на адекватность"
      ],
      "metadata": {
        "id": "Bf9A5X07niqx"
      }
    },
    {
      "cell_type": "code",
      "source": [
        "howpop_train['published'].max()"
      ],
      "metadata": {
        "colab": {
          "base_uri": "https://localhost:8080/"
        },
        "id": "6AkhyuYHeRwJ",
        "outputId": "3e6937d8-598b-47ee-b61b-9bb44c5524da"
      },
      "execution_count": null,
      "outputs": [
        {
          "output_type": "execute_result",
          "data": {
            "text/plain": [
              "Timestamp('2016-10-31 23:56:00')"
            ]
          },
          "metadata": {},
          "execution_count": 90
        }
      ]
    },
    {
      "cell_type": "code",
      "source": [
        "howpop_train['published'].min()"
      ],
      "metadata": {
        "colab": {
          "base_uri": "https://localhost:8080/"
        },
        "id": "yOH8_iBln2gG",
        "outputId": "caccba01-df55-4e32-b4cf-2451e1f3df17"
      },
      "execution_count": null,
      "outputs": [
        {
          "output_type": "execute_result",
          "data": {
            "text/plain": [
              "Timestamp('2008-01-01 18:19:00')"
            ]
          },
          "metadata": {},
          "execution_count": 91
        }
      ]
    },
    {
      "cell_type": "markdown",
      "source": [
        "Посмотрим, какие направления (flow) остались в очищенном датасете"
      ],
      "metadata": {
        "id": "j6S7alKXn7PZ"
      }
    },
    {
      "cell_type": "code",
      "source": [
        "howpop_train['flow'].unique()"
      ],
      "metadata": {
        "colab": {
          "base_uri": "https://localhost:8080/"
        },
        "id": "sARZ5ErggvuA",
        "outputId": "d35d61cc-ca98-4260-c106-57606466cc02"
      },
      "execution_count": null,
      "outputs": [
        {
          "output_type": "execute_result",
          "data": {
            "text/plain": [
              "array(['develop', 'design', 'not_defined', 'misc', 'management', 'admin',\n",
              "       'marketing'], dtype=object)"
            ]
          },
          "metadata": {},
          "execution_count": 92
        }
      ]
    },
    {
      "cell_type": "markdown",
      "source": [
        "Еще раз посмотрим на очищенный датасет"
      ],
      "metadata": {
        "id": "-wo79K8GpAHE"
      }
    },
    {
      "cell_type": "code",
      "source": [
        "howpop_train.sample(n=10)"
      ],
      "metadata": {
        "colab": {
          "base_uri": "https://localhost:8080/",
          "height": 730
        },
        "id": "mqj2D4DCpE8k",
        "outputId": "1e2bd852-6516-4d3d-b6ce-f9c208d4eccc"
      },
      "execution_count": null,
      "outputs": [
        {
          "output_type": "execute_result",
          "data": {
            "text/plain": [
              "                                                      url           published  \\\n",
              "77181                   https://habrahabr.ru/post/205308/ 2013-12-09 11:50:00   \n",
              "92062                   https://habrahabr.ru/post/243605/ 2014-11-19 06:37:00   \n",
              "133065                  https://geektimes.ru/post/281348/ 2016-10-11 09:28:00   \n",
              "70881                   https://habrahabr.ru/post/187512/ 2013-07-23 10:35:00   \n",
              "118683                  https://geektimes.ru/post/269364/ 2016-01-19 08:51:00   \n",
              "126626   https://habrahabr.ru/company/ultima/blog/301582/ 2016-05-24 13:12:00   \n",
              "88189                   https://habrahabr.ru/post/288426/ 2014-08-30 14:51:00   \n",
              "71820                   https://habrahabr.ru/post/190068/ 2013-08-14 19:21:00   \n",
              "68029   https://habrahabr.ru/company/softwarepeople/bl... 2013-05-14 12:36:00   \n",
              "74714    https://habrahabr.ru/company/uprock/blog/198132/ 2013-10-18 18:43:00   \n",
              "\n",
              "               flow  polling  content_len  comments  favs  views  votes_plus  \\\n",
              "77181       develop    False        16433         4   131  18800        13.0   \n",
              "92062     marketing    False        14328        14   148   8200        15.0   \n",
              "133065  not_defined    False         7284       150    29  46100        41.0   \n",
              "70881       develop    False         4398         7    51   7200        10.0   \n",
              "118683  not_defined    False         3158        33    19  19500        26.0   \n",
              "126626    marketing    False         7615         2    18   1200         4.0   \n",
              "88189    management    False         3082        33    26  33500        52.0   \n",
              "71820         admin    False         6494        10    35  13800        11.0   \n",
              "68029       develop    False         2347         0     1   1300         2.0   \n",
              "74714        design    False        11691         7   216  17500        21.0   \n",
              "\n",
              "        votes_minus  views_lognorm  favs_lognorm  comments_lognorm  \n",
              "77181           1.0       0.131543      0.740440         -0.836194  \n",
              "92062          12.0      -0.615996      0.560365          0.133203  \n",
              "133065          6.0       1.590704      0.160000          1.297514  \n",
              "70881           4.0      -0.773647      0.084190         -0.570634  \n",
              "118683          3.0       0.912253      0.065910          0.831973  \n",
              "126626          7.0      -1.883257     -0.408643         -0.691893  \n",
              "88189          10.0       0.668989     -0.839737          0.618166  \n",
              "71820           3.0      -0.234942     -0.235096         -0.334133  \n",
              "68029           1.0      -2.230049     -2.431794         -2.289493  \n",
              "74714           7.0       0.025908      1.083591         -0.556653  "
            ],
            "text/html": [
              "\n",
              "  <div id=\"df-323706b1-817b-4aa9-862c-57cc2a3cf6cc\" class=\"colab-df-container\">\n",
              "    <div>\n",
              "<style scoped>\n",
              "    .dataframe tbody tr th:only-of-type {\n",
              "        vertical-align: middle;\n",
              "    }\n",
              "\n",
              "    .dataframe tbody tr th {\n",
              "        vertical-align: top;\n",
              "    }\n",
              "\n",
              "    .dataframe thead th {\n",
              "        text-align: right;\n",
              "    }\n",
              "</style>\n",
              "<table border=\"1\" class=\"dataframe\">\n",
              "  <thead>\n",
              "    <tr style=\"text-align: right;\">\n",
              "      <th></th>\n",
              "      <th>url</th>\n",
              "      <th>published</th>\n",
              "      <th>flow</th>\n",
              "      <th>polling</th>\n",
              "      <th>content_len</th>\n",
              "      <th>comments</th>\n",
              "      <th>favs</th>\n",
              "      <th>views</th>\n",
              "      <th>votes_plus</th>\n",
              "      <th>votes_minus</th>\n",
              "      <th>views_lognorm</th>\n",
              "      <th>favs_lognorm</th>\n",
              "      <th>comments_lognorm</th>\n",
              "    </tr>\n",
              "  </thead>\n",
              "  <tbody>\n",
              "    <tr>\n",
              "      <th>77181</th>\n",
              "      <td>https://habrahabr.ru/post/205308/</td>\n",
              "      <td>2013-12-09 11:50:00</td>\n",
              "      <td>develop</td>\n",
              "      <td>False</td>\n",
              "      <td>16433</td>\n",
              "      <td>4</td>\n",
              "      <td>131</td>\n",
              "      <td>18800</td>\n",
              "      <td>13.0</td>\n",
              "      <td>1.0</td>\n",
              "      <td>0.131543</td>\n",
              "      <td>0.740440</td>\n",
              "      <td>-0.836194</td>\n",
              "    </tr>\n",
              "    <tr>\n",
              "      <th>92062</th>\n",
              "      <td>https://habrahabr.ru/post/243605/</td>\n",
              "      <td>2014-11-19 06:37:00</td>\n",
              "      <td>marketing</td>\n",
              "      <td>False</td>\n",
              "      <td>14328</td>\n",
              "      <td>14</td>\n",
              "      <td>148</td>\n",
              "      <td>8200</td>\n",
              "      <td>15.0</td>\n",
              "      <td>12.0</td>\n",
              "      <td>-0.615996</td>\n",
              "      <td>0.560365</td>\n",
              "      <td>0.133203</td>\n",
              "    </tr>\n",
              "    <tr>\n",
              "      <th>133065</th>\n",
              "      <td>https://geektimes.ru/post/281348/</td>\n",
              "      <td>2016-10-11 09:28:00</td>\n",
              "      <td>not_defined</td>\n",
              "      <td>False</td>\n",
              "      <td>7284</td>\n",
              "      <td>150</td>\n",
              "      <td>29</td>\n",
              "      <td>46100</td>\n",
              "      <td>41.0</td>\n",
              "      <td>6.0</td>\n",
              "      <td>1.590704</td>\n",
              "      <td>0.160000</td>\n",
              "      <td>1.297514</td>\n",
              "    </tr>\n",
              "    <tr>\n",
              "      <th>70881</th>\n",
              "      <td>https://habrahabr.ru/post/187512/</td>\n",
              "      <td>2013-07-23 10:35:00</td>\n",
              "      <td>develop</td>\n",
              "      <td>False</td>\n",
              "      <td>4398</td>\n",
              "      <td>7</td>\n",
              "      <td>51</td>\n",
              "      <td>7200</td>\n",
              "      <td>10.0</td>\n",
              "      <td>4.0</td>\n",
              "      <td>-0.773647</td>\n",
              "      <td>0.084190</td>\n",
              "      <td>-0.570634</td>\n",
              "    </tr>\n",
              "    <tr>\n",
              "      <th>118683</th>\n",
              "      <td>https://geektimes.ru/post/269364/</td>\n",
              "      <td>2016-01-19 08:51:00</td>\n",
              "      <td>not_defined</td>\n",
              "      <td>False</td>\n",
              "      <td>3158</td>\n",
              "      <td>33</td>\n",
              "      <td>19</td>\n",
              "      <td>19500</td>\n",
              "      <td>26.0</td>\n",
              "      <td>3.0</td>\n",
              "      <td>0.912253</td>\n",
              "      <td>0.065910</td>\n",
              "      <td>0.831973</td>\n",
              "    </tr>\n",
              "    <tr>\n",
              "      <th>126626</th>\n",
              "      <td>https://habrahabr.ru/company/ultima/blog/301582/</td>\n",
              "      <td>2016-05-24 13:12:00</td>\n",
              "      <td>marketing</td>\n",
              "      <td>False</td>\n",
              "      <td>7615</td>\n",
              "      <td>2</td>\n",
              "      <td>18</td>\n",
              "      <td>1200</td>\n",
              "      <td>4.0</td>\n",
              "      <td>7.0</td>\n",
              "      <td>-1.883257</td>\n",
              "      <td>-0.408643</td>\n",
              "      <td>-0.691893</td>\n",
              "    </tr>\n",
              "    <tr>\n",
              "      <th>88189</th>\n",
              "      <td>https://habrahabr.ru/post/288426/</td>\n",
              "      <td>2014-08-30 14:51:00</td>\n",
              "      <td>management</td>\n",
              "      <td>False</td>\n",
              "      <td>3082</td>\n",
              "      <td>33</td>\n",
              "      <td>26</td>\n",
              "      <td>33500</td>\n",
              "      <td>52.0</td>\n",
              "      <td>10.0</td>\n",
              "      <td>0.668989</td>\n",
              "      <td>-0.839737</td>\n",
              "      <td>0.618166</td>\n",
              "    </tr>\n",
              "    <tr>\n",
              "      <th>71820</th>\n",
              "      <td>https://habrahabr.ru/post/190068/</td>\n",
              "      <td>2013-08-14 19:21:00</td>\n",
              "      <td>admin</td>\n",
              "      <td>False</td>\n",
              "      <td>6494</td>\n",
              "      <td>10</td>\n",
              "      <td>35</td>\n",
              "      <td>13800</td>\n",
              "      <td>11.0</td>\n",
              "      <td>3.0</td>\n",
              "      <td>-0.234942</td>\n",
              "      <td>-0.235096</td>\n",
              "      <td>-0.334133</td>\n",
              "    </tr>\n",
              "    <tr>\n",
              "      <th>68029</th>\n",
              "      <td>https://habrahabr.ru/company/softwarepeople/bl...</td>\n",
              "      <td>2013-05-14 12:36:00</td>\n",
              "      <td>develop</td>\n",
              "      <td>False</td>\n",
              "      <td>2347</td>\n",
              "      <td>0</td>\n",
              "      <td>1</td>\n",
              "      <td>1300</td>\n",
              "      <td>2.0</td>\n",
              "      <td>1.0</td>\n",
              "      <td>-2.230049</td>\n",
              "      <td>-2.431794</td>\n",
              "      <td>-2.289493</td>\n",
              "    </tr>\n",
              "    <tr>\n",
              "      <th>74714</th>\n",
              "      <td>https://habrahabr.ru/company/uprock/blog/198132/</td>\n",
              "      <td>2013-10-18 18:43:00</td>\n",
              "      <td>design</td>\n",
              "      <td>False</td>\n",
              "      <td>11691</td>\n",
              "      <td>7</td>\n",
              "      <td>216</td>\n",
              "      <td>17500</td>\n",
              "      <td>21.0</td>\n",
              "      <td>7.0</td>\n",
              "      <td>0.025908</td>\n",
              "      <td>1.083591</td>\n",
              "      <td>-0.556653</td>\n",
              "    </tr>\n",
              "  </tbody>\n",
              "</table>\n",
              "</div>\n",
              "    <div class=\"colab-df-buttons\">\n",
              "\n",
              "  <div class=\"colab-df-container\">\n",
              "    <button class=\"colab-df-convert\" onclick=\"convertToInteractive('df-323706b1-817b-4aa9-862c-57cc2a3cf6cc')\"\n",
              "            title=\"Convert this dataframe to an interactive table.\"\n",
              "            style=\"display:none;\">\n",
              "\n",
              "  <svg xmlns=\"http://www.w3.org/2000/svg\" height=\"24px\" viewBox=\"0 -960 960 960\">\n",
              "    <path d=\"M120-120v-720h720v720H120Zm60-500h600v-160H180v160Zm220 220h160v-160H400v160Zm0 220h160v-160H400v160ZM180-400h160v-160H180v160Zm440 0h160v-160H620v160ZM180-180h160v-160H180v160Zm440 0h160v-160H620v160Z\"/>\n",
              "  </svg>\n",
              "    </button>\n",
              "\n",
              "  <style>\n",
              "    .colab-df-container {\n",
              "      display:flex;\n",
              "      gap: 12px;\n",
              "    }\n",
              "\n",
              "    .colab-df-convert {\n",
              "      background-color: #E8F0FE;\n",
              "      border: none;\n",
              "      border-radius: 50%;\n",
              "      cursor: pointer;\n",
              "      display: none;\n",
              "      fill: #1967D2;\n",
              "      height: 32px;\n",
              "      padding: 0 0 0 0;\n",
              "      width: 32px;\n",
              "    }\n",
              "\n",
              "    .colab-df-convert:hover {\n",
              "      background-color: #E2EBFA;\n",
              "      box-shadow: 0px 1px 2px rgba(60, 64, 67, 0.3), 0px 1px 3px 1px rgba(60, 64, 67, 0.15);\n",
              "      fill: #174EA6;\n",
              "    }\n",
              "\n",
              "    .colab-df-buttons div {\n",
              "      margin-bottom: 4px;\n",
              "    }\n",
              "\n",
              "    [theme=dark] .colab-df-convert {\n",
              "      background-color: #3B4455;\n",
              "      fill: #D2E3FC;\n",
              "    }\n",
              "\n",
              "    [theme=dark] .colab-df-convert:hover {\n",
              "      background-color: #434B5C;\n",
              "      box-shadow: 0px 1px 3px 1px rgba(0, 0, 0, 0.15);\n",
              "      filter: drop-shadow(0px 1px 2px rgba(0, 0, 0, 0.3));\n",
              "      fill: #FFFFFF;\n",
              "    }\n",
              "  </style>\n",
              "\n",
              "    <script>\n",
              "      const buttonEl =\n",
              "        document.querySelector('#df-323706b1-817b-4aa9-862c-57cc2a3cf6cc button.colab-df-convert');\n",
              "      buttonEl.style.display =\n",
              "        google.colab.kernel.accessAllowed ? 'block' : 'none';\n",
              "\n",
              "      async function convertToInteractive(key) {\n",
              "        const element = document.querySelector('#df-323706b1-817b-4aa9-862c-57cc2a3cf6cc');\n",
              "        const dataTable =\n",
              "          await google.colab.kernel.invokeFunction('convertToInteractive',\n",
              "                                                    [key], {});\n",
              "        if (!dataTable) return;\n",
              "\n",
              "        const docLinkHtml = 'Like what you see? Visit the ' +\n",
              "          '<a target=\"_blank\" href=https://colab.research.google.com/notebooks/data_table.ipynb>data table notebook</a>'\n",
              "          + ' to learn more about interactive tables.';\n",
              "        element.innerHTML = '';\n",
              "        dataTable['output_type'] = 'display_data';\n",
              "        await google.colab.output.renderOutput(dataTable, element);\n",
              "        const docLink = document.createElement('div');\n",
              "        docLink.innerHTML = docLinkHtml;\n",
              "        element.appendChild(docLink);\n",
              "      }\n",
              "    </script>\n",
              "  </div>\n",
              "\n",
              "\n",
              "<div id=\"df-67ae2ed3-27ff-4124-a9c0-3fa7b39cffab\">\n",
              "  <button class=\"colab-df-quickchart\" onclick=\"quickchart('df-67ae2ed3-27ff-4124-a9c0-3fa7b39cffab')\"\n",
              "            title=\"Suggest charts\"\n",
              "            style=\"display:none;\">\n",
              "\n",
              "<svg xmlns=\"http://www.w3.org/2000/svg\" height=\"24px\"viewBox=\"0 0 24 24\"\n",
              "     width=\"24px\">\n",
              "    <g>\n",
              "        <path d=\"M19 3H5c-1.1 0-2 .9-2 2v14c0 1.1.9 2 2 2h14c1.1 0 2-.9 2-2V5c0-1.1-.9-2-2-2zM9 17H7v-7h2v7zm4 0h-2V7h2v10zm4 0h-2v-4h2v4z\"/>\n",
              "    </g>\n",
              "</svg>\n",
              "  </button>\n",
              "\n",
              "<style>\n",
              "  .colab-df-quickchart {\n",
              "      --bg-color: #E8F0FE;\n",
              "      --fill-color: #1967D2;\n",
              "      --hover-bg-color: #E2EBFA;\n",
              "      --hover-fill-color: #174EA6;\n",
              "      --disabled-fill-color: #AAA;\n",
              "      --disabled-bg-color: #DDD;\n",
              "  }\n",
              "\n",
              "  [theme=dark] .colab-df-quickchart {\n",
              "      --bg-color: #3B4455;\n",
              "      --fill-color: #D2E3FC;\n",
              "      --hover-bg-color: #434B5C;\n",
              "      --hover-fill-color: #FFFFFF;\n",
              "      --disabled-bg-color: #3B4455;\n",
              "      --disabled-fill-color: #666;\n",
              "  }\n",
              "\n",
              "  .colab-df-quickchart {\n",
              "    background-color: var(--bg-color);\n",
              "    border: none;\n",
              "    border-radius: 50%;\n",
              "    cursor: pointer;\n",
              "    display: none;\n",
              "    fill: var(--fill-color);\n",
              "    height: 32px;\n",
              "    padding: 0;\n",
              "    width: 32px;\n",
              "  }\n",
              "\n",
              "  .colab-df-quickchart:hover {\n",
              "    background-color: var(--hover-bg-color);\n",
              "    box-shadow: 0 1px 2px rgba(60, 64, 67, 0.3), 0 1px 3px 1px rgba(60, 64, 67, 0.15);\n",
              "    fill: var(--button-hover-fill-color);\n",
              "  }\n",
              "\n",
              "  .colab-df-quickchart-complete:disabled,\n",
              "  .colab-df-quickchart-complete:disabled:hover {\n",
              "    background-color: var(--disabled-bg-color);\n",
              "    fill: var(--disabled-fill-color);\n",
              "    box-shadow: none;\n",
              "  }\n",
              "\n",
              "  .colab-df-spinner {\n",
              "    border: 2px solid var(--fill-color);\n",
              "    border-color: transparent;\n",
              "    border-bottom-color: var(--fill-color);\n",
              "    animation:\n",
              "      spin 1s steps(1) infinite;\n",
              "  }\n",
              "\n",
              "  @keyframes spin {\n",
              "    0% {\n",
              "      border-color: transparent;\n",
              "      border-bottom-color: var(--fill-color);\n",
              "      border-left-color: var(--fill-color);\n",
              "    }\n",
              "    20% {\n",
              "      border-color: transparent;\n",
              "      border-left-color: var(--fill-color);\n",
              "      border-top-color: var(--fill-color);\n",
              "    }\n",
              "    30% {\n",
              "      border-color: transparent;\n",
              "      border-left-color: var(--fill-color);\n",
              "      border-top-color: var(--fill-color);\n",
              "      border-right-color: var(--fill-color);\n",
              "    }\n",
              "    40% {\n",
              "      border-color: transparent;\n",
              "      border-right-color: var(--fill-color);\n",
              "      border-top-color: var(--fill-color);\n",
              "    }\n",
              "    60% {\n",
              "      border-color: transparent;\n",
              "      border-right-color: var(--fill-color);\n",
              "    }\n",
              "    80% {\n",
              "      border-color: transparent;\n",
              "      border-right-color: var(--fill-color);\n",
              "      border-bottom-color: var(--fill-color);\n",
              "    }\n",
              "    90% {\n",
              "      border-color: transparent;\n",
              "      border-bottom-color: var(--fill-color);\n",
              "    }\n",
              "  }\n",
              "</style>\n",
              "\n",
              "  <script>\n",
              "    async function quickchart(key) {\n",
              "      const quickchartButtonEl =\n",
              "        document.querySelector('#' + key + ' button');\n",
              "      quickchartButtonEl.disabled = true;  // To prevent multiple clicks.\n",
              "      quickchartButtonEl.classList.add('colab-df-spinner');\n",
              "      try {\n",
              "        const charts = await google.colab.kernel.invokeFunction(\n",
              "            'suggestCharts', [key], {});\n",
              "      } catch (error) {\n",
              "        console.error('Error during call to suggestCharts:', error);\n",
              "      }\n",
              "      quickchartButtonEl.classList.remove('colab-df-spinner');\n",
              "      quickchartButtonEl.classList.add('colab-df-quickchart-complete');\n",
              "    }\n",
              "    (() => {\n",
              "      let quickchartButtonEl =\n",
              "        document.querySelector('#df-67ae2ed3-27ff-4124-a9c0-3fa7b39cffab button');\n",
              "      quickchartButtonEl.style.display =\n",
              "        google.colab.kernel.accessAllowed ? 'block' : 'none';\n",
              "    })();\n",
              "  </script>\n",
              "</div>\n",
              "    </div>\n",
              "  </div>\n"
            ],
            "application/vnd.google.colaboratory.intrinsic+json": {
              "type": "dataframe",
              "summary": "{\n  \"name\": \"howpop_train\",\n  \"rows\": 10,\n  \"fields\": [\n    {\n      \"column\": \"url\",\n      \"properties\": {\n        \"dtype\": \"string\",\n        \"num_unique_values\": 10,\n        \"samples\": [\n          \"https://habrahabr.ru/company/softwarepeople/blog/179623/\",\n          \"https://habrahabr.ru/post/243605/\",\n          \"https://habrahabr.ru/company/ultima/blog/301582/\"\n        ],\n        \"semantic_type\": \"\",\n        \"description\": \"\"\n      }\n    },\n    {\n      \"column\": \"published\",\n      \"properties\": {\n        \"dtype\": \"date\",\n        \"min\": \"2013-05-14 12:36:00\",\n        \"max\": \"2016-10-11 09:28:00\",\n        \"num_unique_values\": 10,\n        \"samples\": [\n          \"2013-05-14 12:36:00\",\n          \"2014-11-19 06:37:00\",\n          \"2016-05-24 13:12:00\"\n        ],\n        \"semantic_type\": \"\",\n        \"description\": \"\"\n      }\n    },\n    {\n      \"column\": \"flow\",\n      \"properties\": {\n        \"dtype\": \"string\",\n        \"num_unique_values\": 6,\n        \"samples\": [\n          \"develop\",\n          \"marketing\",\n          \"design\"\n        ],\n        \"semantic_type\": \"\",\n        \"description\": \"\"\n      }\n    },\n    {\n      \"column\": \"polling\",\n      \"properties\": {\n        \"dtype\": \"boolean\",\n        \"num_unique_values\": 1,\n        \"samples\": [\n          false\n        ],\n        \"semantic_type\": \"\",\n        \"description\": \"\"\n      }\n    },\n    {\n      \"column\": \"content_len\",\n      \"properties\": {\n        \"dtype\": \"number\",\n        \"std\": 4935,\n        \"min\": 2347,\n        \"max\": 16433,\n        \"num_unique_values\": 10,\n        \"samples\": [\n          2347\n        ],\n        \"semantic_type\": \"\",\n        \"description\": \"\"\n      }\n    },\n    {\n      \"column\": \"comments\",\n      \"properties\": {\n        \"dtype\": \"number\",\n        \"std\": 45,\n        \"min\": 0,\n        \"max\": 150,\n        \"num_unique_values\": 8,\n        \"samples\": [\n          14\n        ],\n        \"semantic_type\": \"\",\n        \"description\": \"\"\n      }\n    },\n    {\n      \"column\": \"favs\",\n      \"properties\": {\n        \"dtype\": \"number\",\n        \"std\": 71,\n        \"min\": 1,\n        \"max\": 216,\n        \"num_unique_values\": 10,\n        \"samples\": [\n          1\n        ],\n        \"semantic_type\": \"\",\n        \"description\": \"\"\n      }\n    },\n    {\n      \"column\": \"views\",\n      \"properties\": {\n        \"dtype\": \"number\",\n        \"std\": 14172,\n        \"min\": 1200,\n        \"max\": 46100,\n        \"num_unique_values\": 10,\n        \"samples\": [\n          1300\n        ],\n        \"semantic_type\": \"\",\n        \"description\": \"\"\n      }\n    },\n    {\n      \"column\": \"votes_plus\",\n      \"properties\": {\n        \"dtype\": \"number\",\n        \"std\": 16.105554597370713,\n        \"min\": 2.0,\n        \"max\": 52.0,\n        \"num_unique_values\": 10,\n        \"samples\": [\n          2.0\n        ],\n        \"semantic_type\": \"\",\n        \"description\": \"\"\n      }\n    },\n    {\n      \"column\": \"votes_minus\",\n      \"properties\": {\n        \"dtype\": \"number\",\n        \"std\": 3.687817782917155,\n        \"min\": 1.0,\n        \"max\": 12.0,\n        \"num_unique_values\": 7,\n        \"samples\": [\n          1.0\n        ],\n        \"semantic_type\": \"\",\n        \"description\": \"\"\n      }\n    },\n    {\n      \"column\": \"views_lognorm\",\n      \"properties\": {\n        \"dtype\": \"number\",\n        \"std\": 1.1926134091208027,\n        \"min\": -2.23004947307,\n        \"max\": 1.5907044239,\n        \"num_unique_values\": 10,\n        \"samples\": [\n          -2.23004947307\n        ],\n        \"semantic_type\": \"\",\n        \"description\": \"\"\n      }\n    },\n    {\n      \"column\": \"favs_lognorm\",\n      \"properties\": {\n        \"dtype\": \"number\",\n        \"std\": 0.9868846387688929,\n        \"min\": -2.43179407196,\n        \"max\": 1.08359096846,\n        \"num_unique_values\": 10,\n        \"samples\": [\n          -2.43179407196\n        ],\n        \"semantic_type\": \"\",\n        \"description\": \"\"\n      }\n    },\n    {\n      \"column\": \"comments_lognorm\",\n      \"properties\": {\n        \"dtype\": \"number\",\n        \"std\": 1.0202031924636537,\n        \"min\": -2.28949330362,\n        \"max\": 1.2975139771,\n        \"num_unique_values\": 10,\n        \"samples\": [\n          -2.28949330362\n        ],\n        \"semantic_type\": \"\",\n        \"description\": \"\"\n      }\n    }\n  ]\n}"
            }
          },
          "metadata": {},
          "execution_count": 93
        }
      ]
    },
    {
      "cell_type": "code",
      "source": [
        "howpop_train.columns"
      ],
      "metadata": {
        "colab": {
          "base_uri": "https://localhost:8080/"
        },
        "id": "DNM38JMqtD0S",
        "outputId": "ab3aa690-9208-4fb4-983d-cd844b2f494c"
      },
      "execution_count": null,
      "outputs": [
        {
          "output_type": "execute_result",
          "data": {
            "text/plain": [
              "Index(['url', 'published', 'flow', 'polling', 'content_len', 'comments',\n",
              "       'favs', 'views', 'votes_plus', 'votes_minus', 'views_lognorm',\n",
              "       'favs_lognorm', 'comments_lognorm'],\n",
              "      dtype='object')"
            ]
          },
          "metadata": {},
          "execution_count": 94
        }
      ]
    },
    {
      "cell_type": "markdown",
      "source": [
        "Построим распределения величин 'content_len', 'comments', 'favs', 'views', 'votes_plus', 'votes_minus', 'views_lognorm', 'favs_lognorm', 'comments_lognorm'"
      ],
      "metadata": {
        "id": "XNu_rPEFsw-j"
      }
    },
    {
      "cell_type": "code",
      "source": [
        "# Выберем стиль графиков\n",
        "sns.set_style(\"darkgrid\")\n",
        "fig, axes = plt.subplots(3, 3, figsize=(15, 15))\n",
        "\n",
        "for ind, column in np.ndenumerate(np.array(howpop_train.columns[4:13]).reshape(3, 3)):\n",
        "    sns.kdeplot(howpop_train[column], ax=axes[ind], bw_adjust=3)\n"
      ],
      "metadata": {
        "colab": {
          "base_uri": "https://localhost:8080/",
          "height": 1000
        },
        "id": "C_kwEosTtqgM",
        "outputId": "7e05e6d7-7d81-49d9-bec7-43ab6596af25"
      },
      "execution_count": null,
      "outputs": [
        {
          "output_type": "display_data",
          "data": {
            "text/plain": [
              "<Figure size 1500x1500 with 9 Axes>"
            ],
            "image/png": "[encoded data removed]"
          },
          "metadata": {}
        }
      ]
    },
    {
      "cell_type": "markdown",
      "source": [
        "Заметим, что нам удобнее работать с признаками 'views_lognorm', 'favs_lognorm' 'comments_lognorm', чем с 'comments', 'favs', 'views', так как их распределения похожи на нормальные.\n",
        "\n",
        "Создадим столбец votes с общим числом реакций, как негативных, так и позитивных. Создадим столбцы votes_lognorm и content_len_lognorm и построим их распределения"
      ],
      "metadata": {
        "id": "XJAJQ6hV7cdZ"
      }
    },
    {
      "cell_type": "code",
      "source": [
        "howpop_train['votes'] = howpop_train['votes_plus'] + howpop_train['votes_minus']\n",
        "howpop_train['votes_lognorm'] = np.log(1 + howpop_train['votes'])\n",
        "howpop_train['content_len_lognorm'] = np.log(1 + howpop_train['content_len'])\n",
        "\n",
        "howpop_train.head(6)"
      ],
      "metadata": {
        "colab": {
          "base_uri": "https://localhost:8080/",
          "height": 465
        },
        "id": "4bE2U9IN7b7J",
        "outputId": "e62dc257-45d2-4b30-e40b-1603d08ede1e"
      },
      "execution_count": null,
      "outputs": [
        {
          "output_type": "execute_result",
          "data": {
            "text/plain": [
              "                                url           published         flow  polling  \\\n",
              "0  https://habrahabr.ru/post/18284/ 2008-01-01 18:19:00      develop    False   \n",
              "1  https://habrahabr.ru/post/18285/ 2008-01-01 18:30:00       design    False   \n",
              "2  https://habrahabr.ru/post/18286/ 2008-01-01 18:34:00       design    False   \n",
              "3  https://habrahabr.ru/post/18291/ 2008-01-02 01:32:00       design    False   \n",
              "4  https://geektimes.ru/post/18294/ 2008-01-02 14:34:00  not_defined    False   \n",
              "5  https://habrahabr.ru/post/18295/ 2008-01-02 16:14:00      develop    False   \n",
              "\n",
              "   content_len  comments  favs  views  votes_plus  votes_minus  views_lognorm  \\\n",
              "0         4305         0     0    236         0.0          0.0      -0.792687   \n",
              "1         7344         1     1    353         1.0          0.0      -0.485214   \n",
              "2         8431        47    72   1200        45.0          5.0       0.446090   \n",
              "3         5662       102    36   5700        72.0          3.0       1.627469   \n",
              "4         3706       230     6   1400        73.0         15.0       1.362397   \n",
              "5         3171        22     1    192         9.0          2.0      -0.950075   \n",
              "\n",
              "   favs_lognorm  comments_lognorm  votes  votes_lognorm  content_len_lognorm  \n",
              "0     -1.344075         -2.436871    0.0       0.000000             8.367765  \n",
              "1     -0.831946         -1.873193    1.0       0.693147             8.901775  \n",
              "2      1.794023          0.574656   50.0       3.931826             9.039789  \n",
              "3      1.300050          1.167375   75.0       4.330733             8.641709  \n",
              "4      0.961094          2.020356   88.0       4.488636             8.217978  \n",
              "5     -0.825149          0.016555   11.0       2.484907             8.062118  "
            ],
            "text/html": [
              "\n",
              "  <div id=\"df-615464ed-6d74-425a-b9c3-f053250ee55f\" class=\"colab-df-container\">\n",
              "    <div>\n",
              "<style scoped>\n",
              "    .dataframe tbody tr th:only-of-type {\n",
              "        vertical-align: middle;\n",
              "    }\n",
              "\n",
              "    .dataframe tbody tr th {\n",
              "        vertical-align: top;\n",
              "    }\n",
              "\n",
              "    .dataframe thead th {\n",
              "        text-align: right;\n",
              "    }\n",
              "</style>\n",
              "<table border=\"1\" class=\"dataframe\">\n",
              "  <thead>\n",
              "    <tr style=\"text-align: right;\">\n",
              "      <th></th>\n",
              "      <th>url</th>\n",
              "      <th>published</th>\n",
              "      <th>flow</th>\n",
              "      <th>polling</th>\n",
              "      <th>content_len</th>\n",
              "      <th>comments</th>\n",
              "      <th>favs</th>\n",
              "      <th>views</th>\n",
              "      <th>votes_plus</th>\n",
              "      <th>votes_minus</th>\n",
              "      <th>views_lognorm</th>\n",
              "      <th>favs_lognorm</th>\n",
              "      <th>comments_lognorm</th>\n",
              "      <th>votes</th>\n",
              "      <th>votes_lognorm</th>\n",
              "      <th>content_len_lognorm</th>\n",
              "    </tr>\n",
              "  </thead>\n",
              "  <tbody>\n",
              "    <tr>\n",
              "      <th>0</th>\n",
              "      <td>https://habrahabr.ru/post/18284/</td>\n",
              "      <td>2008-01-01 18:19:00</td>\n",
              "      <td>develop</td>\n",
              "      <td>False</td>\n",
              "      <td>4305</td>\n",
              "      <td>0</td>\n",
              "      <td>0</td>\n",
              "      <td>236</td>\n",
              "      <td>0.0</td>\n",
              "      <td>0.0</td>\n",
              "      <td>-0.792687</td>\n",
              "      <td>-1.344075</td>\n",
              "      <td>-2.436871</td>\n",
              "      <td>0.0</td>\n",
              "      <td>0.000000</td>\n",
              "      <td>8.367765</td>\n",
              "    </tr>\n",
              "    <tr>\n",
              "      <th>1</th>\n",
              "      <td>https://habrahabr.ru/post/18285/</td>\n",
              "      <td>2008-01-01 18:30:00</td>\n",
              "      <td>design</td>\n",
              "      <td>False</td>\n",
              "      <td>7344</td>\n",
              "      <td>1</td>\n",
              "      <td>1</td>\n",
              "      <td>353</td>\n",
              "      <td>1.0</td>\n",
              "      <td>0.0</td>\n",
              "      <td>-0.485214</td>\n",
              "      <td>-0.831946</td>\n",
              "      <td>-1.873193</td>\n",
              "      <td>1.0</td>\n",
              "      <td>0.693147</td>\n",
              "      <td>8.901775</td>\n",
              "    </tr>\n",
              "    <tr>\n",
              "      <th>2</th>\n",
              "      <td>https://habrahabr.ru/post/18286/</td>\n",
              "      <td>2008-01-01 18:34:00</td>\n",
              "      <td>design</td>\n",
              "      <td>False</td>\n",
              "      <td>8431</td>\n",
              "      <td>47</td>\n",
              "      <td>72</td>\n",
              "      <td>1200</td>\n",
              "      <td>45.0</td>\n",
              "      <td>5.0</td>\n",
              "      <td>0.446090</td>\n",
              "      <td>1.794023</td>\n",
              "      <td>0.574656</td>\n",
              "      <td>50.0</td>\n",
              "      <td>3.931826</td>\n",
              "      <td>9.039789</td>\n",
              "    </tr>\n",
              "    <tr>\n",
              "      <th>3</th>\n",
              "      <td>https://habrahabr.ru/post/18291/</td>\n",
              "      <td>2008-01-02 01:32:00</td>\n",
              "      <td>design</td>\n",
              "      <td>False</td>\n",
              "      <td>5662</td>\n",
              "      <td>102</td>\n",
              "      <td>36</td>\n",
              "      <td>5700</td>\n",
              "      <td>72.0</td>\n",
              "      <td>3.0</td>\n",
              "      <td>1.627469</td>\n",
              "      <td>1.300050</td>\n",
              "      <td>1.167375</td>\n",
              "      <td>75.0</td>\n",
              "      <td>4.330733</td>\n",
              "      <td>8.641709</td>\n",
              "    </tr>\n",
              "    <tr>\n",
              "      <th>4</th>\n",
              "      <td>https://geektimes.ru/post/18294/</td>\n",
              "      <td>2008-01-02 14:34:00</td>\n",
              "      <td>not_defined</td>\n",
              "      <td>False</td>\n",
              "      <td>3706</td>\n",
              "      <td>230</td>\n",
              "      <td>6</td>\n",
              "      <td>1400</td>\n",
              "      <td>73.0</td>\n",
              "      <td>15.0</td>\n",
              "      <td>1.362397</td>\n",
              "      <td>0.961094</td>\n",
              "      <td>2.020356</td>\n",
              "      <td>88.0</td>\n",
              "      <td>4.488636</td>\n",
              "      <td>8.217978</td>\n",
              "    </tr>\n",
              "    <tr>\n",
              "      <th>5</th>\n",
              "      <td>https://habrahabr.ru/post/18295/</td>\n",
              "      <td>2008-01-02 16:14:00</td>\n",
              "      <td>develop</td>\n",
              "      <td>False</td>\n",
              "      <td>3171</td>\n",
              "      <td>22</td>\n",
              "      <td>1</td>\n",
              "      <td>192</td>\n",
              "      <td>9.0</td>\n",
              "      <td>2.0</td>\n",
              "      <td>-0.950075</td>\n",
              "      <td>-0.825149</td>\n",
              "      <td>0.016555</td>\n",
              "      <td>11.0</td>\n",
              "      <td>2.484907</td>\n",
              "      <td>8.062118</td>\n",
              "    </tr>\n",
              "  </tbody>\n",
              "</table>\n",
              "</div>\n",
              "    <div class=\"colab-df-buttons\">\n",
              "\n",
              "  <div class=\"colab-df-container\">\n",
              "    <button class=\"colab-df-convert\" onclick=\"convertToInteractive('df-615464ed-6d74-425a-b9c3-f053250ee55f')\"\n",
              "            title=\"Convert this dataframe to an interactive table.\"\n",
              "            style=\"display:none;\">\n",
              "\n",
              "  <svg xmlns=\"http://www.w3.org/2000/svg\" height=\"24px\" viewBox=\"0 -960 960 960\">\n",
              "    <path d=\"M120-120v-720h720v720H120Zm60-500h600v-160H180v160Zm220 220h160v-160H400v160Zm0 220h160v-160H400v160ZM180-400h160v-160H180v160Zm440 0h160v-160H620v160ZM180-180h160v-160H180v160Zm440 0h160v-160H620v160Z\"/>\n",
              "  </svg>\n",
              "    </button>\n",
              "\n",
              "  <style>\n",
              "    .colab-df-container {\n",
              "      display:flex;\n",
              "      gap: 12px;\n",
              "    }\n",
              "\n",
              "    .colab-df-convert {\n",
              "      background-color: #E8F0FE;\n",
              "      border: none;\n",
              "      border-radius: 50%;\n",
              "      cursor: pointer;\n",
              "      display: none;\n",
              "      fill: #1967D2;\n",
              "      height: 32px;\n",
              "      padding: 0 0 0 0;\n",
              "      width: 32px;\n",
              "    }\n",
              "\n",
              "    .colab-df-convert:hover {\n",
              "      background-color: #E2EBFA;\n",
              "      box-shadow: 0px 1px 2px rgba(60, 64, 67, 0.3), 0px 1px 3px 1px rgba(60, 64, 67, 0.15);\n",
              "      fill: #174EA6;\n",
              "    }\n",
              "\n",
              "    .colab-df-buttons div {\n",
              "      margin-bottom: 4px;\n",
              "    }\n",
              "\n",
              "    [theme=dark] .colab-df-convert {\n",
              "      background-color: #3B4455;\n",
              "      fill: #D2E3FC;\n",
              "    }\n",
              "\n",
              "    [theme=dark] .colab-df-convert:hover {\n",
              "      background-color: #434B5C;\n",
              "      box-shadow: 0px 1px 3px 1px rgba(0, 0, 0, 0.15);\n",
              "      filter: drop-shadow(0px 1px 2px rgba(0, 0, 0, 0.3));\n",
              "      fill: #FFFFFF;\n",
              "    }\n",
              "  </style>\n",
              "\n",
              "    <script>\n",
              "      const buttonEl =\n",
              "        document.querySelector('#df-615464ed-6d74-425a-b9c3-f053250ee55f button.colab-df-convert');\n",
              "      buttonEl.style.display =\n",
              "        google.colab.kernel.accessAllowed ? 'block' : 'none';\n",
              "\n",
              "      async function convertToInteractive(key) {\n",
              "        const element = document.querySelector('#df-615464ed-6d74-425a-b9c3-f053250ee55f');\n",
              "        const dataTable =\n",
              "          await google.colab.kernel.invokeFunction('convertToInteractive',\n",
              "                                                    [key], {});\n",
              "        if (!dataTable) return;\n",
              "\n",
              "        const docLinkHtml = 'Like what you see? Visit the ' +\n",
              "          '<a target=\"_blank\" href=https://colab.research.google.com/notebooks/data_table.ipynb>data table notebook</a>'\n",
              "          + ' to learn more about interactive tables.';\n",
              "        element.innerHTML = '';\n",
              "        dataTable['output_type'] = 'display_data';\n",
              "        await google.colab.output.renderOutput(dataTable, element);\n",
              "        const docLink = document.createElement('div');\n",
              "        docLink.innerHTML = docLinkHtml;\n",
              "        element.appendChild(docLink);\n",
              "      }\n",
              "    </script>\n",
              "  </div>\n",
              "\n",
              "\n",
              "<div id=\"df-ce64243f-8946-4911-b780-67a1f05699f2\">\n",
              "  <button class=\"colab-df-quickchart\" onclick=\"quickchart('df-ce64243f-8946-4911-b780-67a1f05699f2')\"\n",
              "            title=\"Suggest charts\"\n",
              "            style=\"display:none;\">\n",
              "\n",
              "<svg xmlns=\"http://www.w3.org/2000/svg\" height=\"24px\"viewBox=\"0 0 24 24\"\n",
              "     width=\"24px\">\n",
              "    <g>\n",
              "        <path d=\"M19 3H5c-1.1 0-2 .9-2 2v14c0 1.1.9 2 2 2h14c1.1 0 2-.9 2-2V5c0-1.1-.9-2-2-2zM9 17H7v-7h2v7zm4 0h-2V7h2v10zm4 0h-2v-4h2v4z\"/>\n",
              "    </g>\n",
              "</svg>\n",
              "  </button>\n",
              "\n",
              "<style>\n",
              "  .colab-df-quickchart {\n",
              "      --bg-color: #E8F0FE;\n",
              "      --fill-color: #1967D2;\n",
              "      --hover-bg-color: #E2EBFA;\n",
              "      --hover-fill-color: #174EA6;\n",
              "      --disabled-fill-color: #AAA;\n",
              "      --disabled-bg-color: #DDD;\n",
              "  }\n",
              "\n",
              "  [theme=dark] .colab-df-quickchart {\n",
              "      --bg-color: #3B4455;\n",
              "      --fill-color: #D2E3FC;\n",
              "      --hover-bg-color: #434B5C;\n",
              "      --hover-fill-color: #FFFFFF;\n",
              "      --disabled-bg-color: #3B4455;\n",
              "      --disabled-fill-color: #666;\n",
              "  }\n",
              "\n",
              "  .colab-df-quickchart {\n",
              "    background-color: var(--bg-color);\n",
              "    border: none;\n",
              "    border-radius: 50%;\n",
              "    cursor: pointer;\n",
              "    display: none;\n",
              "    fill: var(--fill-color);\n",
              "    height: 32px;\n",
              "    padding: 0;\n",
              "    width: 32px;\n",
              "  }\n",
              "\n",
              "  .colab-df-quickchart:hover {\n",
              "    background-color: var(--hover-bg-color);\n",
              "    box-shadow: 0 1px 2px rgba(60, 64, 67, 0.3), 0 1px 3px 1px rgba(60, 64, 67, 0.15);\n",
              "    fill: var(--button-hover-fill-color);\n",
              "  }\n",
              "\n",
              "  .colab-df-quickchart-complete:disabled,\n",
              "  .colab-df-quickchart-complete:disabled:hover {\n",
              "    background-color: var(--disabled-bg-color);\n",
              "    fill: var(--disabled-fill-color);\n",
              "    box-shadow: none;\n",
              "  }\n",
              "\n",
              "  .colab-df-spinner {\n",
              "    border: 2px solid var(--fill-color);\n",
              "    border-color: transparent;\n",
              "    border-bottom-color: var(--fill-color);\n",
              "    animation:\n",
              "      spin 1s steps(1) infinite;\n",
              "  }\n",
              "\n",
              "  @keyframes spin {\n",
              "    0% {\n",
              "      border-color: transparent;\n",
              "      border-bottom-color: var(--fill-color);\n",
              "      border-left-color: var(--fill-color);\n",
              "    }\n",
              "    20% {\n",
              "      border-color: transparent;\n",
              "      border-left-color: var(--fill-color);\n",
              "      border-top-color: var(--fill-color);\n",
              "    }\n",
              "    30% {\n",
              "      border-color: transparent;\n",
              "      border-left-color: var(--fill-color);\n",
              "      border-top-color: var(--fill-color);\n",
              "      border-right-color: var(--fill-color);\n",
              "    }\n",
              "    40% {\n",
              "      border-color: transparent;\n",
              "      border-right-color: var(--fill-color);\n",
              "      border-top-color: var(--fill-color);\n",
              "    }\n",
              "    60% {\n",
              "      border-color: transparent;\n",
              "      border-right-color: var(--fill-color);\n",
              "    }\n",
              "    80% {\n",
              "      border-color: transparent;\n",
              "      border-right-color: var(--fill-color);\n",
              "      border-bottom-color: var(--fill-color);\n",
              "    }\n",
              "    90% {\n",
              "      border-color: transparent;\n",
              "      border-bottom-color: var(--fill-color);\n",
              "    }\n",
              "  }\n",
              "</style>\n",
              "\n",
              "  <script>\n",
              "    async function quickchart(key) {\n",
              "      const quickchartButtonEl =\n",
              "        document.querySelector('#' + key + ' button');\n",
              "      quickchartButtonEl.disabled = true;  // To prevent multiple clicks.\n",
              "      quickchartButtonEl.classList.add('colab-df-spinner');\n",
              "      try {\n",
              "        const charts = await google.colab.kernel.invokeFunction(\n",
              "            'suggestCharts', [key], {});\n",
              "      } catch (error) {\n",
              "        console.error('Error during call to suggestCharts:', error);\n",
              "      }\n",
              "      quickchartButtonEl.classList.remove('colab-df-spinner');\n",
              "      quickchartButtonEl.classList.add('colab-df-quickchart-complete');\n",
              "    }\n",
              "    (() => {\n",
              "      let quickchartButtonEl =\n",
              "        document.querySelector('#df-ce64243f-8946-4911-b780-67a1f05699f2 button');\n",
              "      quickchartButtonEl.style.display =\n",
              "        google.colab.kernel.accessAllowed ? 'block' : 'none';\n",
              "    })();\n",
              "  </script>\n",
              "</div>\n",
              "    </div>\n",
              "  </div>\n"
            ],
            "application/vnd.google.colaboratory.intrinsic+json": {
              "type": "dataframe",
              "variable_name": "howpop_train"
            }
          },
          "metadata": {},
          "execution_count": 96
        }
      ]
    },
    {
      "cell_type": "code",
      "source": [
        "fig, axes = plt.subplots(1, 2, figsize=(10, 4))\n",
        "\n",
        "howpop_train['votes_lognorm'].plot.kde(ax=axes[0], title='votes_lognorm', bw_method=1)\n",
        "howpop_train['content_len_lognorm'].plot.kde(ax=axes[1], title='content_len_lognorm', bw_method=1)"
      ],
      "metadata": {
        "colab": {
          "base_uri": "https://localhost:8080/",
          "height": 409
        },
        "id": "b2jtgGem_PEH",
        "outputId": "b725e534-3e8d-4b9d-e913-43b17fcd830a"
      },
      "execution_count": null,
      "outputs": [
        {
          "output_type": "execute_result",
          "data": {
            "text/plain": [
              "<Axes: title={'center': 'content_len_lognorm'}, ylabel='Density'>"
            ]
          },
          "metadata": {},
          "execution_count": 97
        },
        {
          "output_type": "display_data",
          "data": {
            "text/plain": [
              "<Figure size 1000x400 with 2 Axes>"
            ],
            "image/png": "[encoded data removed]"
          },
          "metadata": {}
        }
      ]
    },
    {
      "cell_type": "markdown",
      "source": [
        "Распределения величин стали похожи на нормальные"
      ],
      "metadata": {
        "id": "AXVsv8VhBWfw"
      }
    },
    {
      "cell_type": "markdown",
      "source": [
        "## Проверка на нормальность"
      ],
      "metadata": {
        "id": "3S_BK_3gDrCX"
      }
    },
    {
      "cell_type": "markdown",
      "source": [
        "### Обработка выбросов"
      ],
      "metadata": {
        "id": "tlNFmnEeD3tm"
      }
    },
    {
      "cell_type": "markdown",
      "source": [
        "В предыдущем пункте мы выяснили, что данные столбцов 'views_lognorm', 'favs_lognorm', 'comments_lognorm', 'votes_lognorm' и 'content_len_lognorm' похожи на нормальные. Прежде чем подвергнуть их статистическим тестам, создадим отдельные датафреймы для каждого из этих столбцов, так как их выбросы, скорее всего, не связаны между собой. Выбросы будем искать по методу Тьюки"
      ],
      "metadata": {
        "id": "8_R4ss8kEwUb"
      }
    },
    {
      "cell_type": "code",
      "source": [
        "def outliers_iqr(data, feature, log_scale=False, left=1.5, right=1.5):\n",
        "    if log_scale:\n",
        "        x = np.log(data[feature]+1)\n",
        "    else:\n",
        "        x = data[feature]\n",
        "    quartile_1, quartile_3 = x.quantile(0.25), x.quantile(0.75),\n",
        "    iqr = quartile_3 - quartile_1\n",
        "    lower_bound = quartile_1 - (iqr * left)\n",
        "    upper_bound = quartile_3 + (iqr * right)\n",
        "    outliers = data[(x < lower_bound) | (x > upper_bound)]\n",
        "    cleaned = data[(x >= lower_bound) & (x <= upper_bound)]\n",
        "    return outliers, cleaned"
      ],
      "metadata": {
        "id": "pebe14ujEt3G"
      },
      "execution_count": null,
      "outputs": []
    },
    {
      "cell_type": "code",
      "source": [
        "for feature in ['views_lognorm', 'favs_lognorm', 'comments_lognorm', 'votes_lognorm', 'content_len_lognorm']:\n",
        "    outliers = outliers_iqr(howpop_train, feature)[0]\n",
        "\n",
        "    print(f'Число выбросов по методу Тьюки для {feature}: {outliers.shape[0]}')"
      ],
      "metadata": {
        "colab": {
          "base_uri": "https://localhost:8080/"
        },
        "id": "c0Cni3kQF1D9",
        "outputId": "586e2915-3b53-49c9-852e-ff5979f7857a"
      },
      "execution_count": null,
      "outputs": [
        {
          "output_type": "stream",
          "name": "stdout",
          "text": [
            "Число выбросов по методу Тьюки для views_lognorm: 871\n",
            "Число выбросов по методу Тьюки для favs_lognorm: 615\n",
            "Число выбросов по методу Тьюки для comments_lognorm: 942\n",
            "Число выбросов по методу Тьюки для votes_lognorm: 938\n",
            "Число выбросов по методу Тьюки для content_len_lognorm: 1425\n"
          ]
        }
      ]
    },
    {
      "cell_type": "markdown",
      "source": [
        "Число межквартильных размахов в обе стороны увеличим до 2"
      ],
      "metadata": {
        "id": "TQAiY3rbH-FJ"
      }
    },
    {
      "cell_type": "code",
      "source": [
        "for feature in ['views_lognorm', 'favs_lognorm', 'comments_lognorm', 'votes_lognorm', 'content_len_lognorm']:\n",
        "    outliers = outliers_iqr(howpop_train, feature, left=2, right=2)[0]\n",
        "\n",
        "    print(f'Число выбросов по методу Тьюки для {feature}: {outliers.shape[0]}')"
      ],
      "metadata": {
        "colab": {
          "base_uri": "https://localhost:8080/"
        },
        "id": "9xiYQCg4HlnR",
        "outputId": "05e6ba12-ff7b-47d1-abbe-c39c9d592438"
      },
      "execution_count": null,
      "outputs": [
        {
          "output_type": "stream",
          "name": "stdout",
          "text": [
            "Число выбросов по методу Тьюки для views_lognorm: 177\n",
            "Число выбросов по методу Тьюки для favs_lognorm: 70\n",
            "Число выбросов по методу Тьюки для comments_lognorm: 49\n",
            "Число выбросов по методу Тьюки для votes_lognorm: 312\n",
            "Число выбросов по методу Тьюки для content_len_lognorm: 993\n"
          ]
        }
      ]
    },
    {
      "cell_type": "markdown",
      "source": [
        "Посмотрим, насколько изменилось число выбросов для данных каждого столбца"
      ],
      "metadata": {
        "id": "QgAHPlWKIhmT"
      }
    },
    {
      "cell_type": "code",
      "source": [
        "for feature in ['views_lognorm', 'favs_lognorm', 'comments_lognorm', 'votes_lognorm', 'content_len_lognorm']:\n",
        "    outliers_2IQR = outliers_iqr(howpop_train, feature, left=2, right=2)[0]\n",
        "    outliers_1_5IQR = outliers_iqr(howpop_train, feature)[0]\n",
        "    ratio = - (outliers_2IQR.shape[0] - outliers_1_5IQR.shape[0]) / outliers_1_5IQR.shape[0]\n",
        "\n",
        "    print(f'Число выбросов по методу Тьюки для {feature}: {ratio}')"
      ],
      "metadata": {
        "colab": {
          "base_uri": "https://localhost:8080/"
        },
        "id": "k8pmyATVIocC",
        "outputId": "2567c922-e7da-48cf-d300-d9129e46242a"
      },
      "execution_count": null,
      "outputs": [
        {
          "output_type": "stream",
          "name": "stdout",
          "text": [
            "Число выбросов по методу Тьюки для views_lognorm: 0.7967853042479908\n",
            "Число выбросов по методу Тьюки для favs_lognorm: 0.8861788617886179\n",
            "Число выбросов по методу Тьюки для comments_lognorm: 0.9479830148619958\n",
            "Число выбросов по методу Тьюки для votes_lognorm: 0.6673773987206824\n",
            "Число выбросов по методу Тьюки для content_len_lognorm: 0.3031578947368421\n"
          ]
        }
      ]
    },
    {
      "cell_type": "markdown",
      "source": [
        "Отсюда видим, что выбросы признаков 'views_lognorm', 'favs_lognorm', 'comments_lognorm' наиболее чувствительны к изменению коэффициента при межквартильном расстоянии, что говорит в пользу их нормального распределения."
      ],
      "metadata": {
        "id": "BRiS3-frJmCL"
      }
    },
    {
      "cell_type": "markdown",
      "source": [
        "### Тесты на нормальность"
      ],
      "metadata": {
        "id": "KVI_AxcUTXwD"
      }
    },
    {
      "cell_type": "markdown",
      "source": [
        "Поскольку выборки 'views_lognorm', 'favs_lognorm', 'comments_lognorm' очень большие, будем использовать в качестве статистических критериев тесты Д'Агостино.\n",
        "\n",
        "Так как у нас есть сомнения в нормальности распределений 'votes_lognorm' и 'content_len_lognorm' исследуем их с помощью теста Харке-Бера, так как он более чувствителен к принятию альтернативной гипотезы (согласно документации)"
      ],
      "metadata": {
        "id": "t-Ac-rMsTR_F"
      }
    },
    {
      "cell_type": "code",
      "source": [
        "def pvalue(data, feature):\n",
        "  sample = np.array(outliers_iqr(howpop_train, feature)[1][feature])\n",
        "  if feature in ['views_lognorm', 'favs_lognorm', 'comments_lognorm']:\n",
        "    print(f'p-value {feature} по Д\\'Агостино: {sp.stats.normaltest(sample).pvalue}')\n",
        "  elif feature in ['votes_lognorm', 'content_len_lognorm']:\n",
        "    print(f'p-value {feature} по Харке-Бера: {sp.stats.jarque_bera(sample).pvalue}')\n",
        "  else:\n",
        "    pass\n",
        "\n",
        "for feature in ['views_lognorm', 'favs_lognorm', 'comments_lognorm', 'votes_lognorm', 'content_len_lognorm']:\n",
        "  pvalue(howpop_train, feature)"
      ],
      "metadata": {
        "colab": {
          "base_uri": "https://localhost:8080/"
        },
        "id": "GGdL6zxxbFRT",
        "outputId": "ba27faef-9de2-49e1-d003-aa9f0f82aac8"
      },
      "execution_count": null,
      "outputs": [
        {
          "output_type": "stream",
          "name": "stdout",
          "text": [
            "p-value views_lognorm по Д'Агостино: 2.0158091443362665e-237\n",
            "p-value favs_lognorm по Д'Агостино: 9.734631877783773e-295\n",
            "p-value comments_lognorm по Д'Агостино: 0.0\n",
            "p-value votes_lognorm по Харке-Бера: 4.8728866818107304e-194\n",
            "p-value content_len_lognorm по Харке-Бера: 0.0\n"
          ]
        }
      ]
    },
    {
      "cell_type": "markdown",
      "source": [
        "В каждом из тестов получили значение p-value, равное машинному нулю. Следовательно, для каждого из признаков гипотезу о нормальности распределения отвергаем.\n",
        "Действительно, ядерная оценка плотности сглаживает отклонения от нормального распределения, что видно на следующей гистограмме"
      ],
      "metadata": {
        "id": "MPleCZHHl7he"
      }
    },
    {
      "cell_type": "code",
      "source": [
        "import matplotlib\n",
        "\n",
        "fig, ax1 = plt.subplots()\n",
        "\n",
        "sns.kdeplot(howpop_train['votes_lognorm'], ax=ax1, color='yellow', bw_adjust=0.2, label='KDE with bw_adjust=0.2')\n",
        "sns.kdeplot(howpop_train['votes_lognorm'], ax=ax1, color='red', bw_adjust=1, label='KDE with bw_adjust=1')\n",
        "sns.histplot(howpop_train['votes_lognorm'], stat='density', bins=100, ax=ax1, color='blue', label='histogram')\n",
        "\n",
        "ax1.legend(loc='upper right')"
      ],
      "metadata": {
        "colab": {
          "base_uri": "https://localhost:8080/",
          "height": 468
        },
        "id": "benzCh5geZ2R",
        "outputId": "d5fb99d3-2b3e-42c1-eb22-55b67a9f47db"
      },
      "execution_count": null,
      "outputs": [
        {
          "output_type": "execute_result",
          "data": {
            "text/plain": [
              "<matplotlib.legend.Legend at 0x7f4353df8400>"
            ]
          },
          "metadata": {},
          "execution_count": 103
        },
        {
          "output_type": "display_data",
          "data": {
            "text/plain": [
              "<Figure size 640x480 with 1 Axes>"
            ],
            "image/png": "[encoded data removed]"
          },
          "metadata": {}
        }
      ]
    },
    {
      "cell_type": "markdown",
      "source": [
        "Поскольку все нулевые гипотезы о нормальности были отклонены, а параметрические тесты работают только с нормально распределенными данными, судя по всему, играет роль фактор времени, который мы прежде не учитывали.\n",
        "\n",
        "Добавим столбцы год и месяц."
      ],
      "metadata": {
        "id": "mojDwzhTHypj"
      }
    },
    {
      "cell_type": "code",
      "source": [
        "howpop_train['year'] = howpop_train['published'].dt.year\n",
        "howpop_train['month'] = howpop_train['published'].dt.month\n",
        "howpop_train.head(10)"
      ],
      "metadata": {
        "colab": {
          "base_uri": "https://localhost:8080/",
          "height": 730
        },
        "id": "7o05snTbIChb",
        "outputId": "2b69a6f7-2f41-4d7a-d22f-91f0b7d7d78b"
      },
      "execution_count": null,
      "outputs": [
        {
          "output_type": "execute_result",
          "data": {
            "text/plain": [
              "                                url           published         flow  polling  \\\n",
              "0  https://habrahabr.ru/post/18284/ 2008-01-01 18:19:00      develop    False   \n",
              "1  https://habrahabr.ru/post/18285/ 2008-01-01 18:30:00       design    False   \n",
              "2  https://habrahabr.ru/post/18286/ 2008-01-01 18:34:00       design    False   \n",
              "3  https://habrahabr.ru/post/18291/ 2008-01-02 01:32:00       design    False   \n",
              "4  https://geektimes.ru/post/18294/ 2008-01-02 14:34:00  not_defined    False   \n",
              "5  https://habrahabr.ru/post/18295/ 2008-01-02 16:14:00      develop    False   \n",
              "6  https://geektimes.ru/post/18306/ 2008-01-03 12:55:00  not_defined    False   \n",
              "7  https://habrahabr.ru/post/18311/ 2008-01-03 17:20:00         misc    False   \n",
              "8  https://habrahabr.ru/post/31352/ 2008-01-03 22:54:00      develop    False   \n",
              "9  https://habrahabr.ru/post/18314/ 2008-01-03 23:56:00      develop    False   \n",
              "\n",
              "   content_len  comments  favs  views  votes_plus  votes_minus  views_lognorm  \\\n",
              "0         4305         0     0    236         0.0          0.0      -0.792687   \n",
              "1         7344         1     1    353         1.0          0.0      -0.485214   \n",
              "2         8431        47    72   1200        45.0          5.0       0.446090   \n",
              "3         5662       102    36   5700        72.0          3.0       1.627469   \n",
              "4         3706       230     6   1400        73.0         15.0       1.362397   \n",
              "5         3171        22     1    192         9.0          2.0      -0.950075   \n",
              "6          435        10     0    301         5.0          1.0      -0.402140   \n",
              "7         3291        64     1    141        17.0         20.0      -1.168569   \n",
              "8         1953        23     2    208        21.0          3.0      -0.878984   \n",
              "9         3712         6     1    401         2.0          0.0      -0.389766   \n",
              "\n",
              "   favs_lognorm  comments_lognorm  votes  votes_lognorm  content_len_lognorm  \\\n",
              "0     -1.344075         -2.436871    0.0       0.000000             8.367765   \n",
              "1     -0.831946         -1.873193    1.0       0.693147             8.901775   \n",
              "2      1.794023          0.574656   50.0       3.931826             9.039789   \n",
              "3      1.300050          1.167375   75.0       4.330733             8.641709   \n",
              "4      0.961094          2.020356   88.0       4.488636             8.217978   \n",
              "5     -0.825149          0.016555   11.0       2.484907             8.062118   \n",
              "6     -1.278643         -0.355525    6.0       1.945910             6.077642   \n",
              "7     -0.822414          0.801626   37.0       3.637586             8.099251   \n",
              "8     -0.525245          0.041000   24.0       3.218876             7.577634   \n",
              "9     -0.817507         -0.896510    2.0       1.098612             8.219595   \n",
              "\n",
              "   year  month  \n",
              "0  2008      1  \n",
              "1  2008      1  \n",
              "2  2008      1  \n",
              "3  2008      1  \n",
              "4  2008      1  \n",
              "5  2008      1  \n",
              "6  2008      1  \n",
              "7  2008      1  \n",
              "8  2008      1  \n",
              "9  2008      1  "
            ],
            "text/html": [
              "\n",
              "  <div id=\"df-ee6e0157-312d-4bba-ae61-2c4aa3580d07\" class=\"colab-df-container\">\n",
              "    <div>\n",
              "<style scoped>\n",
              "    .dataframe tbody tr th:only-of-type {\n",
              "        vertical-align: middle;\n",
              "    }\n",
              "\n",
              "    .dataframe tbody tr th {\n",
              "        vertical-align: top;\n",
              "    }\n",
              "\n",
              "    .dataframe thead th {\n",
              "        text-align: right;\n",
              "    }\n",
              "</style>\n",
              "<table border=\"1\" class=\"dataframe\">\n",
              "  <thead>\n",
              "    <tr style=\"text-align: right;\">\n",
              "      <th></th>\n",
              "      <th>url</th>\n",
              "      <th>published</th>\n",
              "      <th>flow</th>\n",
              "      <th>polling</th>\n",
              "      <th>content_len</th>\n",
              "      <th>comments</th>\n",
              "      <th>favs</th>\n",
              "      <th>views</th>\n",
              "      <th>votes_plus</th>\n",
              "      <th>votes_minus</th>\n",
              "      <th>views_lognorm</th>\n",
              "      <th>favs_lognorm</th>\n",
              "      <th>comments_lognorm</th>\n",
              "      <th>votes</th>\n",
              "      <th>votes_lognorm</th>\n",
              "      <th>content_len_lognorm</th>\n",
              "      <th>year</th>\n",
              "      <th>month</th>\n",
              "    </tr>\n",
              "  </thead>\n",
              "  <tbody>\n",
              "    <tr>\n",
              "      <th>0</th>\n",
              "      <td>https://habrahabr.ru/post/18284/</td>\n",
              "      <td>2008-01-01 18:19:00</td>\n",
              "      <td>develop</td>\n",
              "      <td>False</td>\n",
              "      <td>4305</td>\n",
              "      <td>0</td>\n",
              "      <td>0</td>\n",
              "      <td>236</td>\n",
              "      <td>0.0</td>\n",
              "      <td>0.0</td>\n",
              "      <td>-0.792687</td>\n",
              "      <td>-1.344075</td>\n",
              "      <td>-2.436871</td>\n",
              "      <td>0.0</td>\n",
              "      <td>0.000000</td>\n",
              "      <td>8.367765</td>\n",
              "      <td>2008</td>\n",
              "      <td>1</td>\n",
              "    </tr>\n",
              "    <tr>\n",
              "      <th>1</th>\n",
              "      <td>https://habrahabr.ru/post/18285/</td>\n",
              "      <td>2008-01-01 18:30:00</td>\n",
              "      <td>design</td>\n",
              "      <td>False</td>\n",
              "      <td>7344</td>\n",
              "      <td>1</td>\n",
              "      <td>1</td>\n",
              "      <td>353</td>\n",
              "      <td>1.0</td>\n",
              "      <td>0.0</td>\n",
              "      <td>-0.485214</td>\n",
              "      <td>-0.831946</td>\n",
              "      <td>-1.873193</td>\n",
              "      <td>1.0</td>\n",
              "      <td>0.693147</td>\n",
              "      <td>8.901775</td>\n",
              "      <td>2008</td>\n",
              "      <td>1</td>\n",
              "    </tr>\n",
              "    <tr>\n",
              "      <th>2</th>\n",
              "      <td>https://habrahabr.ru/post/18286/</td>\n",
              "      <td>2008-01-01 18:34:00</td>\n",
              "      <td>design</td>\n",
              "      <td>False</td>\n",
              "      <td>8431</td>\n",
              "      <td>47</td>\n",
              "      <td>72</td>\n",
              "      <td>1200</td>\n",
              "      <td>45.0</td>\n",
              "      <td>5.0</td>\n",
              "      <td>0.446090</td>\n",
              "      <td>1.794023</td>\n",
              "      <td>0.574656</td>\n",
              "      <td>50.0</td>\n",
              "      <td>3.931826</td>\n",
              "      <td>9.039789</td>\n",
              "      <td>2008</td>\n",
              "      <td>1</td>\n",
              "    </tr>\n",
              "    <tr>\n",
              "      <th>3</th>\n",
              "      <td>https://habrahabr.ru/post/18291/</td>\n",
              "      <td>2008-01-02 01:32:00</td>\n",
              "      <td>design</td>\n",
              "      <td>False</td>\n",
              "      <td>5662</td>\n",
              "      <td>102</td>\n",
              "      <td>36</td>\n",
              "      <td>5700</td>\n",
              "      <td>72.0</td>\n",
              "      <td>3.0</td>\n",
              "      <td>1.627469</td>\n",
              "      <td>1.300050</td>\n",
              "      <td>1.167375</td>\n",
              "      <td>75.0</td>\n",
              "      <td>4.330733</td>\n",
              "      <td>8.641709</td>\n",
              "      <td>2008</td>\n",
              "      <td>1</td>\n",
              "    </tr>\n",
              "    <tr>\n",
              "      <th>4</th>\n",
              "      <td>https://geektimes.ru/post/18294/</td>\n",
              "      <td>2008-01-02 14:34:00</td>\n",
              "      <td>not_defined</td>\n",
              "      <td>False</td>\n",
              "      <td>3706</td>\n",
              "      <td>230</td>\n",
              "      <td>6</td>\n",
              "      <td>1400</td>\n",
              "      <td>73.0</td>\n",
              "      <td>15.0</td>\n",
              "      <td>1.362397</td>\n",
              "      <td>0.961094</td>\n",
              "      <td>2.020356</td>\n",
              "      <td>88.0</td>\n",
              "      <td>4.488636</td>\n",
              "      <td>8.217978</td>\n",
              "      <td>2008</td>\n",
              "      <td>1</td>\n",
              "    </tr>\n",
              "    <tr>\n",
              "      <th>5</th>\n",
              "      <td>https://habrahabr.ru/post/18295/</td>\n",
              "      <td>2008-01-02 16:14:00</td>\n",
              "      <td>develop</td>\n",
              "      <td>False</td>\n",
              "      <td>3171</td>\n",
              "      <td>22</td>\n",
              "      <td>1</td>\n",
              "      <td>192</td>\n",
              "      <td>9.0</td>\n",
              "      <td>2.0</td>\n",
              "      <td>-0.950075</td>\n",
              "      <td>-0.825149</td>\n",
              "      <td>0.016555</td>\n",
              "      <td>11.0</td>\n",
              "      <td>2.484907</td>\n",
              "      <td>8.062118</td>\n",
              "      <td>2008</td>\n",
              "      <td>1</td>\n",
              "    </tr>\n",
              "    <tr>\n",
              "      <th>6</th>\n",
              "      <td>https://geektimes.ru/post/18306/</td>\n",
              "      <td>2008-01-03 12:55:00</td>\n",
              "      <td>not_defined</td>\n",
              "      <td>False</td>\n",
              "      <td>435</td>\n",
              "      <td>10</td>\n",
              "      <td>0</td>\n",
              "      <td>301</td>\n",
              "      <td>5.0</td>\n",
              "      <td>1.0</td>\n",
              "      <td>-0.402140</td>\n",
              "      <td>-1.278643</td>\n",
              "      <td>-0.355525</td>\n",
              "      <td>6.0</td>\n",
              "      <td>1.945910</td>\n",
              "      <td>6.077642</td>\n",
              "      <td>2008</td>\n",
              "      <td>1</td>\n",
              "    </tr>\n",
              "    <tr>\n",
              "      <th>7</th>\n",
              "      <td>https://habrahabr.ru/post/18311/</td>\n",
              "      <td>2008-01-03 17:20:00</td>\n",
              "      <td>misc</td>\n",
              "      <td>False</td>\n",
              "      <td>3291</td>\n",
              "      <td>64</td>\n",
              "      <td>1</td>\n",
              "      <td>141</td>\n",
              "      <td>17.0</td>\n",
              "      <td>20.0</td>\n",
              "      <td>-1.168569</td>\n",
              "      <td>-0.822414</td>\n",
              "      <td>0.801626</td>\n",
              "      <td>37.0</td>\n",
              "      <td>3.637586</td>\n",
              "      <td>8.099251</td>\n",
              "      <td>2008</td>\n",
              "      <td>1</td>\n",
              "    </tr>\n",
              "    <tr>\n",
              "      <th>8</th>\n",
              "      <td>https://habrahabr.ru/post/31352/</td>\n",
              "      <td>2008-01-03 22:54:00</td>\n",
              "      <td>develop</td>\n",
              "      <td>False</td>\n",
              "      <td>1953</td>\n",
              "      <td>23</td>\n",
              "      <td>2</td>\n",
              "      <td>208</td>\n",
              "      <td>21.0</td>\n",
              "      <td>3.0</td>\n",
              "      <td>-0.878984</td>\n",
              "      <td>-0.525245</td>\n",
              "      <td>0.041000</td>\n",
              "      <td>24.0</td>\n",
              "      <td>3.218876</td>\n",
              "      <td>7.577634</td>\n",
              "      <td>2008</td>\n",
              "      <td>1</td>\n",
              "    </tr>\n",
              "    <tr>\n",
              "      <th>9</th>\n",
              "      <td>https://habrahabr.ru/post/18314/</td>\n",
              "      <td>2008-01-03 23:56:00</td>\n",
              "      <td>develop</td>\n",
              "      <td>False</td>\n",
              "      <td>3712</td>\n",
              "      <td>6</td>\n",
              "      <td>1</td>\n",
              "      <td>401</td>\n",
              "      <td>2.0</td>\n",
              "      <td>0.0</td>\n",
              "      <td>-0.389766</td>\n",
              "      <td>-0.817507</td>\n",
              "      <td>-0.896510</td>\n",
              "      <td>2.0</td>\n",
              "      <td>1.098612</td>\n",
              "      <td>8.219595</td>\n",
              "      <td>2008</td>\n",
              "      <td>1</td>\n",
              "    </tr>\n",
              "  </tbody>\n",
              "</table>\n",
              "</div>\n",
              "    <div class=\"colab-df-buttons\">\n",
              "\n",
              "  <div class=\"colab-df-container\">\n",
              "    <button class=\"colab-df-convert\" onclick=\"convertToInteractive('df-ee6e0157-312d-4bba-ae61-2c4aa3580d07')\"\n",
              "            title=\"Convert this dataframe to an interactive table.\"\n",
              "            style=\"display:none;\">\n",
              "\n",
              "  <svg xmlns=\"http://www.w3.org/2000/svg\" height=\"24px\" viewBox=\"0 -960 960 960\">\n",
              "    <path d=\"M120-120v-720h720v720H120Zm60-500h600v-160H180v160Zm220 220h160v-160H400v160Zm0 220h160v-160H400v160ZM180-400h160v-160H180v160Zm440 0h160v-160H620v160ZM180-180h160v-160H180v160Zm440 0h160v-160H620v160Z\"/>\n",
              "  </svg>\n",
              "    </button>\n",
              "\n",
              "  <style>\n",
              "    .colab-df-container {\n",
              "      display:flex;\n",
              "      gap: 12px;\n",
              "    }\n",
              "\n",
              "    .colab-df-convert {\n",
              "      background-color: #E8F0FE;\n",
              "      border: none;\n",
              "      border-radius: 50%;\n",
              "      cursor: pointer;\n",
              "      display: none;\n",
              "      fill: #1967D2;\n",
              "      height: 32px;\n",
              "      padding: 0 0 0 0;\n",
              "      width: 32px;\n",
              "    }\n",
              "\n",
              "    .colab-df-convert:hover {\n",
              "      background-color: #E2EBFA;\n",
              "      box-shadow: 0px 1px 2px rgba(60, 64, 67, 0.3), 0px 1px 3px 1px rgba(60, 64, 67, 0.15);\n",
              "      fill: #174EA6;\n",
              "    }\n",
              "\n",
              "    .colab-df-buttons div {\n",
              "      margin-bottom: 4px;\n",
              "    }\n",
              "\n",
              "    [theme=dark] .colab-df-convert {\n",
              "      background-color: #3B4455;\n",
              "      fill: #D2E3FC;\n",
              "    }\n",
              "\n",
              "    [theme=dark] .colab-df-convert:hover {\n",
              "      background-color: #434B5C;\n",
              "      box-shadow: 0px 1px 3px 1px rgba(0, 0, 0, 0.15);\n",
              "      filter: drop-shadow(0px 1px 2px rgba(0, 0, 0, 0.3));\n",
              "      fill: #FFFFFF;\n",
              "    }\n",
              "  </style>\n",
              "\n",
              "    <script>\n",
              "      const buttonEl =\n",
              "        document.querySelector('#df-ee6e0157-312d-4bba-ae61-2c4aa3580d07 button.colab-df-convert');\n",
              "      buttonEl.style.display =\n",
              "        google.colab.kernel.accessAllowed ? 'block' : 'none';\n",
              "\n",
              "      async function convertToInteractive(key) {\n",
              "        const element = document.querySelector('#df-ee6e0157-312d-4bba-ae61-2c4aa3580d07');\n",
              "        const dataTable =\n",
              "          await google.colab.kernel.invokeFunction('convertToInteractive',\n",
              "                                                    [key], {});\n",
              "        if (!dataTable) return;\n",
              "\n",
              "        const docLinkHtml = 'Like what you see? Visit the ' +\n",
              "          '<a target=\"_blank\" href=https://colab.research.google.com/notebooks/data_table.ipynb>data table notebook</a>'\n",
              "          + ' to learn more about interactive tables.';\n",
              "        element.innerHTML = '';\n",
              "        dataTable['output_type'] = 'display_data';\n",
              "        await google.colab.output.renderOutput(dataTable, element);\n",
              "        const docLink = document.createElement('div');\n",
              "        docLink.innerHTML = docLinkHtml;\n",
              "        element.appendChild(docLink);\n",
              "      }\n",
              "    </script>\n",
              "  </div>\n",
              "\n",
              "\n",
              "<div id=\"df-3254734e-9c94-4e55-be92-514501b8914a\">\n",
              "  <button class=\"colab-df-quickchart\" onclick=\"quickchart('df-3254734e-9c94-4e55-be92-514501b8914a')\"\n",
              "            title=\"Suggest charts\"\n",
              "            style=\"display:none;\">\n",
              "\n",
              "<svg xmlns=\"http://www.w3.org/2000/svg\" height=\"24px\"viewBox=\"0 0 24 24\"\n",
              "     width=\"24px\">\n",
              "    <g>\n",
              "        <path d=\"M19 3H5c-1.1 0-2 .9-2 2v14c0 1.1.9 2 2 2h14c1.1 0 2-.9 2-2V5c0-1.1-.9-2-2-2zM9 17H7v-7h2v7zm4 0h-2V7h2v10zm4 0h-2v-4h2v4z\"/>\n",
              "    </g>\n",
              "</svg>\n",
              "  </button>\n",
              "\n",
              "<style>\n",
              "  .colab-df-quickchart {\n",
              "      --bg-color: #E8F0FE;\n",
              "      --fill-color: #1967D2;\n",
              "      --hover-bg-color: #E2EBFA;\n",
              "      --hover-fill-color: #174EA6;\n",
              "      --disabled-fill-color: #AAA;\n",
              "      --disabled-bg-color: #DDD;\n",
              "  }\n",
              "\n",
              "  [theme=dark] .colab-df-quickchart {\n",
              "      --bg-color: #3B4455;\n",
              "      --fill-color: #D2E3FC;\n",
              "      --hover-bg-color: #434B5C;\n",
              "      --hover-fill-color: #FFFFFF;\n",
              "      --disabled-bg-color: #3B4455;\n",
              "      --disabled-fill-color: #666;\n",
              "  }\n",
              "\n",
              "  .colab-df-quickchart {\n",
              "    background-color: var(--bg-color);\n",
              "    border: none;\n",
              "    border-radius: 50%;\n",
              "    cursor: pointer;\n",
              "    display: none;\n",
              "    fill: var(--fill-color);\n",
              "    height: 32px;\n",
              "    padding: 0;\n",
              "    width: 32px;\n",
              "  }\n",
              "\n",
              "  .colab-df-quickchart:hover {\n",
              "    background-color: var(--hover-bg-color);\n",
              "    box-shadow: 0 1px 2px rgba(60, 64, 67, 0.3), 0 1px 3px 1px rgba(60, 64, 67, 0.15);\n",
              "    fill: var(--button-hover-fill-color);\n",
              "  }\n",
              "\n",
              "  .colab-df-quickchart-complete:disabled,\n",
              "  .colab-df-quickchart-complete:disabled:hover {\n",
              "    background-color: var(--disabled-bg-color);\n",
              "    fill: var(--disabled-fill-color);\n",
              "    box-shadow: none;\n",
              "  }\n",
              "\n",
              "  .colab-df-spinner {\n",
              "    border: 2px solid var(--fill-color);\n",
              "    border-color: transparent;\n",
              "    border-bottom-color: var(--fill-color);\n",
              "    animation:\n",
              "      spin 1s steps(1) infinite;\n",
              "  }\n",
              "\n",
              "  @keyframes spin {\n",
              "    0% {\n",
              "      border-color: transparent;\n",
              "      border-bottom-color: var(--fill-color);\n",
              "      border-left-color: var(--fill-color);\n",
              "    }\n",
              "    20% {\n",
              "      border-color: transparent;\n",
              "      border-left-color: var(--fill-color);\n",
              "      border-top-color: var(--fill-color);\n",
              "    }\n",
              "    30% {\n",
              "      border-color: transparent;\n",
              "      border-left-color: var(--fill-color);\n",
              "      border-top-color: var(--fill-color);\n",
              "      border-right-color: var(--fill-color);\n",
              "    }\n",
              "    40% {\n",
              "      border-color: transparent;\n",
              "      border-right-color: var(--fill-color);\n",
              "      border-top-color: var(--fill-color);\n",
              "    }\n",
              "    60% {\n",
              "      border-color: transparent;\n",
              "      border-right-color: var(--fill-color);\n",
              "    }\n",
              "    80% {\n",
              "      border-color: transparent;\n",
              "      border-right-color: var(--fill-color);\n",
              "      border-bottom-color: var(--fill-color);\n",
              "    }\n",
              "    90% {\n",
              "      border-color: transparent;\n",
              "      border-bottom-color: var(--fill-color);\n",
              "    }\n",
              "  }\n",
              "</style>\n",
              "\n",
              "  <script>\n",
              "    async function quickchart(key) {\n",
              "      const quickchartButtonEl =\n",
              "        document.querySelector('#' + key + ' button');\n",
              "      quickchartButtonEl.disabled = true;  // To prevent multiple clicks.\n",
              "      quickchartButtonEl.classList.add('colab-df-spinner');\n",
              "      try {\n",
              "        const charts = await google.colab.kernel.invokeFunction(\n",
              "            'suggestCharts', [key], {});\n",
              "      } catch (error) {\n",
              "        console.error('Error during call to suggestCharts:', error);\n",
              "      }\n",
              "      quickchartButtonEl.classList.remove('colab-df-spinner');\n",
              "      quickchartButtonEl.classList.add('colab-df-quickchart-complete');\n",
              "    }\n",
              "    (() => {\n",
              "      let quickchartButtonEl =\n",
              "        document.querySelector('#df-3254734e-9c94-4e55-be92-514501b8914a button');\n",
              "      quickchartButtonEl.style.display =\n",
              "        google.colab.kernel.accessAllowed ? 'block' : 'none';\n",
              "    })();\n",
              "  </script>\n",
              "</div>\n",
              "    </div>\n",
              "  </div>\n"
            ],
            "application/vnd.google.colaboratory.intrinsic+json": {
              "type": "dataframe",
              "variable_name": "howpop_train"
            }
          },
          "metadata": {},
          "execution_count": 104
        }
      ]
    },
    {
      "cell_type": "code",
      "source": [
        "howpop_train['year'].unique()"
      ],
      "metadata": {
        "colab": {
          "base_uri": "https://localhost:8080/"
        },
        "id": "vLYl_1avI3ti",
        "outputId": "39e4d36b-8ace-451c-e23b-be8a4c11a753"
      },
      "execution_count": null,
      "outputs": [
        {
          "output_type": "execute_result",
          "data": {
            "text/plain": [
              "array([2008, 2009, 2010, 2011, 2012, 2013, 2014, 2015, 2016], dtype=int32)"
            ]
          },
          "metadata": {},
          "execution_count": 105
        }
      ]
    },
    {
      "cell_type": "code",
      "source": [
        "howpop_train[howpop_train['year'] == 2015]['month'].unique()"
      ],
      "metadata": {
        "colab": {
          "base_uri": "https://localhost:8080/"
        },
        "id": "MJToVTLTJBBR",
        "outputId": "94311331-caec-4459-9980-332929d7496b"
      },
      "execution_count": null,
      "outputs": [
        {
          "output_type": "execute_result",
          "data": {
            "text/plain": [
              "array([ 1,  2,  3,  4,  5,  6,  7,  8,  9, 10, 11, 12], dtype=int32)"
            ]
          },
          "metadata": {},
          "execution_count": 106
        }
      ]
    },
    {
      "cell_type": "code",
      "source": [
        "howpop_train[(howpop_train['year'] == 2016) & (howpop_train['month'] == 10)]['url'].count()"
      ],
      "metadata": {
        "colab": {
          "base_uri": "https://localhost:8080/"
        },
        "id": "WQDdVHnIJOvg",
        "outputId": "44874e38-f898-40dd-8904-c611979c926e"
      },
      "execution_count": null,
      "outputs": [
        {
          "output_type": "execute_result",
          "data": {
            "text/plain": [
              "1493"
            ]
          },
          "metadata": {},
          "execution_count": 107
        }
      ]
    },
    {
      "cell_type": "markdown",
      "source": [
        "Нам удалось вычленить выборку размером, в 100 раз меньшим исходной. Проверим ее на нормальность.\n",
        "\n",
        "* H_0 - данные распределены нормально\n",
        "* H_1 - данные не распределены нормально"
      ],
      "metadata": {
        "id": "bmZr9LMdKoXN"
      }
    },
    {
      "cell_type": "code",
      "source": [
        "cont_len_in_10_2016 = howpop_train[(howpop_train['year'] == 2016) & (howpop_train['month'] == 10)]\n",
        "cont_len_in_10_2016_cleaned = outliers_iqr(cont_len_in_10_2016, 'content_len_lognorm')[1]\n",
        "\n",
        "print(f\"p-value content_len по Д\\'Агостино: {sp.stats.normaltest(np.array(cont_len_in_10_2016_cleaned['content_len_lognorm'])).pvalue}\")"
      ],
      "metadata": {
        "colab": {
          "base_uri": "https://localhost:8080/"
        },
        "id": "KmEetqA-LO1j",
        "outputId": "8d814626-811d-4d85-8843-6a49a1921558"
      },
      "execution_count": null,
      "outputs": [
        {
          "output_type": "stream",
          "name": "stdout",
          "text": [
            "p-value content_len по Д'Агостино: 0.7048500345389623\n"
          ]
        }
      ]
    },
    {
      "cell_type": "markdown",
      "source": [
        "Данный тест показывает, что с уровнем значимости alpha = 0,01 мы не можем отклонить нулевую гипотезу о том, что данные распределены нормально"
      ],
      "metadata": {
        "id": "auHGfv5-Okg9"
      }
    },
    {
      "cell_type": "markdown",
      "source": [
        "Напишем функцию которая проверит, какие признаки распределены преимущественно нормально по месяцам"
      ],
      "metadata": {
        "id": "6WdBX8vUQmx-"
      }
    },
    {
      "cell_type": "code",
      "source": [
        "def normality(data, features):\n",
        "  # общее число месяцев\n",
        "  k = 0\n",
        "  n_month = 8 * 12\n",
        "  for feature in features:\n",
        "    for year in range(2008, 2017):\n",
        "      for month in range(1, 13):\n",
        "        data_ym = data[(data['year'] == year) & (data['month'] == month)]\n",
        "        if data_ym.empty:\n",
        "          continue\n",
        "        cleaned = outliers_iqr(data_ym, feature)[1]\n",
        "        res = sp.stats.normaltest(np.array(cleaned[feature])).pvalue\n",
        "        if res >= 0.05:\n",
        "          k += 1\n",
        "        else:\n",
        "          pass\n",
        "    print(f'Данные {feature} распределены нормально в {round(k / n_month, 3)}% месяцев')"
      ],
      "metadata": {
        "id": "A36gYD3hMJOD"
      },
      "execution_count": null,
      "outputs": []
    },
    {
      "cell_type": "code",
      "source": [
        "normality(howpop_train, ['views_lognorm', 'favs_lognorm', 'comments_lognorm', 'votes_lognorm', 'content_len_lognorm'])"
      ],
      "metadata": {
        "colab": {
          "base_uri": "https://localhost:8080/"
        },
        "id": "L_d1U2dpUVpk",
        "outputId": "38496ab2-0823-41b8-8bc0-679652b1eb68"
      },
      "execution_count": null,
      "outputs": [
        {
          "output_type": "stream",
          "name": "stdout",
          "text": [
            "Данные views_lognorm распределены нормально в 0.177% месяцев\n",
            "Данные favs_lognorm распределены нормально в 0.271% месяцев\n",
            "Данные comments_lognorm распределены нормально в 0.281% месяцев\n",
            "Данные votes_lognorm распределены нормально в 0.448% месяцев\n",
            "Данные content_len_lognorm распределены нормально в 0.615% месяцев\n"
          ]
        }
      ]
    },
    {
      "cell_type": "markdown",
      "source": [
        "Теперь посмотрим по кварталам года"
      ],
      "metadata": {
        "id": "ycqC1GaUZzm2"
      }
    },
    {
      "cell_type": "code",
      "source": [
        "def normality_1(data, features):\n",
        "  # общее число месяцев\n",
        "  k = 0\n",
        "  n_month = 8 * 4\n",
        "  for feature in features:\n",
        "    for year in range(2008, 2017):\n",
        "      for month in range(1, 13, 3):\n",
        "        data_ym = data[(data['year'] == year) & ((data['month'] == month) |\n",
        "                                                 (data['month'] == month + 1) |\n",
        "                                                 (data['month'] == month + 2))]\n",
        "        if data_ym.empty:\n",
        "          continue\n",
        "        cleaned = outliers_iqr(data_ym, feature)[1]\n",
        "        res = sp.stats.normaltest(np.array(cleaned[feature])).pvalue\n",
        "        if res >= 0.05:\n",
        "          k += 1\n",
        "        else:\n",
        "          pass\n",
        "    print(f'Данные {feature} распределены нормально в {round(k / n_month, 3)}% кварталов года')"
      ],
      "metadata": {
        "id": "_RVTcZ0nXaq3"
      },
      "execution_count": null,
      "outputs": []
    },
    {
      "cell_type": "code",
      "source": [
        "normality_1(howpop_train, ['views_lognorm', 'favs_lognorm', 'comments_lognorm', 'votes_lognorm', 'content_len_lognorm'])"
      ],
      "metadata": {
        "colab": {
          "base_uri": "https://localhost:8080/"
        },
        "id": "F8bQyZMpXnr-",
        "outputId": "3dd7fab9-ce32-44cc-82a3-b299033168fc"
      },
      "execution_count": null,
      "outputs": [
        {
          "output_type": "stream",
          "name": "stdout",
          "text": [
            "Данные views_lognorm распределены нормально в 0.031% кварталов года\n",
            "Данные favs_lognorm распределены нормально в 0.062% кварталов года\n",
            "Данные comments_lognorm распределены нормально в 0.062% кварталов года\n",
            "Данные votes_lognorm распределены нормально в 0.094% кварталов года\n",
            "Данные content_len_lognorm распределены нормально в 0.156% кварталов года\n"
          ]
        }
      ]
    },
    {
      "cell_type": "markdown",
      "source": [
        "Поиск по сезонам не дал удовлетворительного результата.\n",
        "\n",
        "Остановимся на исследовании признака content_len_lognorm по месяцам.\n",
        "\n",
        "Найдем самый удачный год для исследования: самым удачным годом будем считать то, в котором признак content_len_lognorm в наибольшем числе месяцев распределен нормально"
      ],
      "metadata": {
        "id": "jUOKhK4_Z4dd"
      }
    },
    {
      "cell_type": "code",
      "source": [
        "def best_year(data, features):\n",
        "  n_month = 12\n",
        "  A = []\n",
        "  for feature in features:\n",
        "    for year in range(2008, 2017):\n",
        "      k = 0\n",
        "      B = []\n",
        "      for month in range(1, 13):\n",
        "        data_ym = data[(data['year'] == year) & (data['month'] == month)]\n",
        "        if data_ym.empty:\n",
        "          continue\n",
        "        cleaned = outliers_iqr(data_ym, feature)[1]\n",
        "        res = sp.stats.normaltest(np.array(cleaned[feature])).pvalue\n",
        "        if res >= 0.05:\n",
        "          k += 1\n",
        "          B.append(month)\n",
        "    A.append((year, k / n_month, B))\n",
        "    best= max(enumerate(A), key=lambda x: x[1][1])\n",
        "    print(f'Лучший год - {best[1][0]} \\nВ нем данные распределены нормально в {round(best[1][1], 3)}% месяцев: {\" \".join(map(str, best[1][2]))}')"
      ],
      "metadata": {
        "id": "OvkI7PinaEld"
      },
      "execution_count": null,
      "outputs": []
    },
    {
      "cell_type": "code",
      "source": [
        "best_year(howpop_train, ['content_len_lognorm',])"
      ],
      "metadata": {
        "colab": {
          "base_uri": "https://localhost:8080/"
        },
        "id": "NJfhaBfIcCx_",
        "outputId": "427bf905-3a1c-4f2b-c140-e67250ef8443"
      },
      "execution_count": null,
      "outputs": [
        {
          "output_type": "stream",
          "name": "stdout",
          "text": [
            "Лучший год - 2016 \n",
            "В нем данные распределены нормально в 0.417% месяцев: 6 7 8 9 10\n"
          ]
        }
      ]
    },
    {
      "cell_type": "markdown",
      "source": [
        "## Проверка гипотез\n",
        "\n"
      ],
      "metadata": {
        "id": "pbYGjQkKS-rD"
      }
    },
    {
      "cell_type": "markdown",
      "source": [
        "Будем анализировать признак content_len_lognorm с июня по октябрь 2016 года.\n",
        "\n",
        "Вначале построим гистограммы для данных по каждому месяцу на одном графике.\n",
        "\n",
        "*   Новый пункт\n",
        "*   Новый пункт\n",
        "\n"
      ],
      "metadata": {
        "id": "yrHd5jpjMJLK"
      }
    },
    {
      "cell_type": "code",
      "source": [
        "howpop_train_2016 = howpop_train[howpop_train['year'] == 2016]\n",
        "fig, ax1 = plt.subplots()\n",
        "\n",
        "color = ['blue', 'purple', 'red', 'green', 'yellow']\n",
        "k = 0\n",
        "content_len_per_month = list()\n",
        "for month in range(6, 11):\n",
        "  content_len_per_month.append(np.array(howpop_train_2016[howpop_train_2016['month'] == month]['content_len_lognorm']))\n",
        "  sns.histplot(content_len_per_month[k],\n",
        "               stat='density',\n",
        "               bins=100,\n",
        "               ax=ax1, color=color[k],\n",
        "               label=str(month))\n",
        "  k += 1\n",
        "\n",
        "ax1.legend()"
      ],
      "metadata": {
        "colab": {
          "base_uri": "https://localhost:8080/",
          "height": 453
        },
        "id": "zNgBi8xCMpHP",
        "outputId": "67eeacd2-1417-4f0d-f1d7-95243dcfe5fb"
      },
      "execution_count": null,
      "outputs": [
        {
          "output_type": "execute_result",
          "data": {
            "text/plain": [
              "<matplotlib.legend.Legend at 0x7f4353e28cd0>"
            ]
          },
          "metadata": {},
          "execution_count": 115
        },
        {
          "output_type": "display_data",
          "data": {
            "text/plain": [
              "<Figure size 640x480 with 1 Axes>"
            ],
            "image/png": "[encoded data removed]"
          },
          "metadata": {}
        }
      ]
    },
    {
      "cell_type": "markdown",
      "source": [
        "Выясним, есть ли различия между средней длиной контента по месяцам с июня по октябрь 2016 года."
      ],
      "metadata": {
        "id": "TvztZVfWP345"
      }
    },
    {
      "cell_type": "code",
      "source": [
        "H_0 = 'Нет значимой разницы между логарифмом средней длины контента по месяцам с июня по октябрь 2016 года.'\n",
        "H_1 = 'Есть значимая разница между логарифмом средней длины по месяцам с июня по октябрь 2016 года.'"
      ],
      "metadata": {
        "id": "H38Qhe2UPlKW"
      },
      "execution_count": null,
      "outputs": []
    },
    {
      "cell_type": "markdown",
      "source": [
        "В качестве статистического теста будем использовать тест ANOVA.\n",
        "\n",
        "Обоснование выбора теста:\n",
        "* Зависимая переменная одна\n",
        "* Групп несколько\n",
        "* Зависимая переменная распределена нормально"
      ],
      "metadata": {
        "id": "fyplyYeuQxq_"
      }
    },
    {
      "cell_type": "code",
      "source": [
        "alpha = 0.05\n",
        "_, p = sp.stats.f_oneway(content_len_per_month[0],\n",
        "                content_len_per_month[1],\n",
        "                content_len_per_month[2],\n",
        "                content_len_per_month[3],\n",
        "                content_len_per_month[4])\n",
        "\n",
        "if p > alpha:\n",
        "  print(f\"{p} > {alpha}. Мы не можем отвергнуть нулевую гипотезу.\\n{H_0}\")\n",
        "else:\n",
        "  print(f\"{p} <= {alpha}. Мы отвергаем нулевую гипотезу.\\n{H_1}\")"
      ],
      "metadata": {
        "colab": {
          "base_uri": "https://localhost:8080/"
        },
        "id": "aAi-zTZnRTvP",
        "outputId": "621547dd-9eb2-42bb-e371-0d16d69c1ae1"
      },
      "execution_count": null,
      "outputs": [
        {
          "output_type": "stream",
          "name": "stdout",
          "text": [
            "0.06869784020288693 > 0.05. Мы не можем отвергнуть нулевую гипотезу.\n",
            "Нет значимой разницы между логарифмом средней длины контента по месяцам с июня по октябрь 2016 года.\n"
          ]
        }
      ]
    },
    {
      "cell_type": "markdown",
      "source": [
        "Проведем тест на нормальность по данным за все эти месяцы."
      ],
      "metadata": {
        "id": "u6qz3ihFW_gh"
      }
    },
    {
      "cell_type": "code",
      "source": [
        "data = howpop_train_2016[howpop_train_2016['month'].isin(range(6, 11))]\n",
        "\n",
        "res = sp.stats.normaltest(np.array(outliers_iqr(data, 'content_len_lognorm')[1]['content_len_lognorm'])).pvalue\n",
        "if res > alpha:\n",
        "  print(f'Нет оснований отклонить H_0')\n",
        "else:\n",
        "  print(f'Данные не распределены нормально')"
      ],
      "metadata": {
        "colab": {
          "base_uri": "https://localhost:8080/"
        },
        "id": "KVYfydWpSjvY",
        "outputId": "5fdf1871-ef72-427a-cac1-b52d0b9908a8"
      },
      "execution_count": null,
      "outputs": [
        {
          "output_type": "stream",
          "name": "stdout",
          "text": [
            "Нет оснований отклонить H_0\n"
          ]
        }
      ]
    },
    {
      "cell_type": "markdown",
      "source": [
        "Поскольку у нас нет оснований полагать, что количества просмотров и favs распределены нормально, будем использовать непараметрический тест корреляции Спирмена"
      ],
      "metadata": {
        "id": "WbvdLlNmZm4H"
      }
    },
    {
      "cell_type": "code",
      "source": [
        "data1 = howpop_train['favs']\n",
        "data2 = howpop_train['views']\n",
        "\n",
        "stat, p = sp.stats.spearmanr(data1, data2)\n",
        "if p > alpha:\n",
        "    print(f\"{p} > {alpha}. Мы не можем отвергнуть нулевую гипотезу об отсутсвии зависимости между переменными.\\nСтатистика теста - {stat}\")\n",
        "else:\n",
        "    print(f\"{p} <= {alpha}. Мы отвергаем нулевую гипотезу об отсутсвии зависимости между переменными.\\nСтатистика теста - {stat}\")"
      ],
      "metadata": {
        "colab": {
          "base_uri": "https://localhost:8080/"
        },
        "id": "TxdJCyZKbM8w",
        "outputId": "1047fe6c-9490-433d-907a-06f3e096b8d1"
      },
      "execution_count": null,
      "outputs": [
        {
          "output_type": "stream",
          "name": "stdout",
          "text": [
            "0.0 <= 0.05. Мы отвергаем нулевую гипотезу об отсутсвии зависимости между переменными.\n",
            "Статистика теста - 0.7111099082040638\n"
          ]
        }
      ]
    },
    {
      "cell_type": "markdown",
      "source": [
        "Посмотрим среди статей каких рубрик эта взаимосвязь наиболее выражена"
      ],
      "metadata": {
        "id": "hYdPe_wAdaLD"
      }
    },
    {
      "cell_type": "code",
      "source": [
        "for flow in howpop_train['flow'].unique():\n",
        "  data1 = howpop_train[howpop_train['flow'] == flow]['favs']\n",
        "  data2 = howpop_train[howpop_train['flow'] == flow]['views']\n",
        "\n",
        "  stat, p = sp.stats.spearmanr(data1, data2)\n",
        "  if p > alpha:\n",
        "    print(f\"{p} > {alpha}. Мы не можем отвергнуть нулевую гипотезу об отсутсвии зависимости между переменными в рубрике {flow}.\\nСтатистика теста - {stat}\")\n",
        "  else:\n",
        "    print(f\"{p} <= {alpha}. Мы отвергаем нулевую гипотезу об отсутсвии зависимости между переменными в рубрике {flow}.\\nСтатистика теста - {stat}\")"
      ],
      "metadata": {
        "colab": {
          "base_uri": "https://localhost:8080/"
        },
        "id": "6KKRknlmc7qz",
        "outputId": "079e17f1-3da8-4270-d64d-9bf42c3e50e1"
      },
      "execution_count": null,
      "outputs": [
        {
          "output_type": "stream",
          "name": "stdout",
          "text": [
            "0.0 <= 0.05. Мы отвергаем нулевую гипотезу об отсутсвии зависимости между переменными в рубрике develop.\n",
            "Статистика теста - 0.7419865312577312\n",
            "0.0 <= 0.05. Мы отвергаем нулевую гипотезу об отсутсвии зависимости между переменными в рубрике design.\n",
            "Статистика теста - 0.713714844027416\n",
            "0.0 <= 0.05. Мы отвергаем нулевую гипотезу об отсутсвии зависимости между переменными в рубрике not_defined.\n",
            "Статистика теста - 0.7154965893676042\n",
            "0.0 <= 0.05. Мы отвергаем нулевую гипотезу об отсутсвии зависимости между переменными в рубрике misc.\n",
            "Статистика теста - 0.6264832198387266\n",
            "0.0 <= 0.05. Мы отвергаем нулевую гипотезу об отсутсвии зависимости между переменными в рубрике management.\n",
            "Статистика теста - 0.61701393118962\n",
            "0.0 <= 0.05. Мы отвергаем нулевую гипотезу об отсутсвии зависимости между переменными в рубрике admin.\n",
            "Статистика теста - 0.7664879544580846\n",
            "7.8875809427796e-311 <= 0.05. Мы отвергаем нулевую гипотезу об отсутсвии зависимости между переменными в рубрике marketing.\n",
            "Статистика теста - 0.6502304906548119\n"
          ]
        }
      ]
    },
    {
      "cell_type": "markdown",
      "source": [
        "Как видим, взаимосвязь между количеством просмотров и количеством favs наиболее выражена в направлениях develop, design, admin и not_defined, причем наиболее выражена она именно в not_defined.\n",
        "\n",
        "Посмотрим на тепловую карту корреляции всех признаков исходного датафрейма."
      ],
      "metadata": {
        "id": "y0N0dComdzOs"
      }
    },
    {
      "cell_type": "code",
      "source": [
        "corr = howpop_train[['content_len_lognorm', 'comments', 'favs', 'views',\n",
        "                     'votes_plus', 'votes_minus', 'votes']].corr(method='spearman')\n",
        "\n",
        "sns.heatmap(corr, annot=True, cmap='coolwarm')\n",
        "plt.title('correlation between featers')"
      ],
      "metadata": {
        "colab": {
          "base_uri": "https://localhost:8080/",
          "height": 602
        },
        "id": "Hw1OMnwheg78",
        "outputId": "603ba680-06bf-40e1-8d68-c72394ad40ab"
      },
      "execution_count": null,
      "outputs": [
        {
          "output_type": "execute_result",
          "data": {
            "text/plain": [
              "Text(0.5, 1.0, 'correlation between featers')"
            ]
          },
          "metadata": {},
          "execution_count": 136
        },
        {
          "output_type": "display_data",
          "data": {
            "text/plain": [
              "<Figure size 640x480 with 2 Axes>"
            ],
            "image/png": "[encoded data removed]"
          },
          "metadata": {}
        }
      ]
    },
    {
      "cell_type": "markdown",
      "source": [
        "Проверим также взаимосвязь между количеством реакций и количеством комментариев"
      ],
      "metadata": {
        "id": "aT4y8__Hmh4V"
      }
    },
    {
      "cell_type": "code",
      "source": [
        "data1 = howpop_train['comments']\n",
        "data2 = howpop_train['votes']\n",
        "\n",
        "stat, p = sp.stats.spearmanr(data1, data2)\n",
        "if p > alpha:\n",
        "    print(f\"{p} > {alpha}. Мы не можем отвергнуть нулевую гипотезу об отсутсвии зависимости между переменными.\\nСтатистика теста - {stat:.2f}\")\n",
        "else:\n",
        "    print(f\"{p} <= {alpha}. Мы отвергаем нулевую гипотезу об отсутсвии зависимости между переменными.\\nСтатистика теста - {stat:.2f}\")"
      ],
      "metadata": {
        "colab": {
          "base_uri": "https://localhost:8080/"
        },
        "id": "fIYl0BQNmtSK",
        "outputId": "871161fa-3cc1-4907-ce23-4881cecb8586"
      },
      "execution_count": null,
      "outputs": [
        {
          "output_type": "stream",
          "name": "stdout",
          "text": [
            "0.0 <= 0.05. Мы отвергаем нулевую гипотезу об отсутсвии зависимости между переменными.\n",
            "Статистика теста - 0.75\n"
          ]
        }
      ]
    }
  ]
}